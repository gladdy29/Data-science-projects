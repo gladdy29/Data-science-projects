{
 "cells": [
  {
   "cell_type": "markdown",
   "metadata": {},
   "source": [
    "# OSM data wrangling project:\n",
    "\n",
    "## Metropolitan Area:\n",
    "    San-Jose, California\n",
    "    \n",
    "    <https://mapzen.com/data/metro-extracts/metro/san-jose_california/>\n",
    "    \n",
    "## Why I chose San-Jose?\n",
    "\n",
    "1. I live close to Chicago, but Chicago data was used in the lessons, so I didnt want to use it again.\n",
    "2. I have been to San Jose and the OSM data after decompressing was around 383 MB, I sampled out of it an OSM file of 55 MB, fit    for the project.\n",
    "\n",
    "    The only other resource I used is the schema from:\n",
    "\n",
    "    <https://gist.github.com/swwelch/f1144229848b407e0a5d13fcb7fbbd6f>"
   ]
  },
  {
   "cell_type": "markdown",
   "metadata": {},
   "source": [
    "# Data used in the analysis:\n",
    "\n",
    "### Files\n",
    "```\n",
    "1. san_jose_compressed.osm            55 MB\n",
    "2. mymap.db                           31 MB\n",
    "3. nodes.csv                          21 MB\n",
    "4. nodes_tags.csv                     0.5 MB\n",
    "5. ways.csv                           2 MB\n",
    "6. ways_nodes.csv                     7 MB\n",
    "7. ways_tags.csv                      3 MB\n",
    "\n",
    "\n"
   ]
  },
  {
   "cell_type": "markdown",
   "metadata": {},
   "source": [
    "## Problems encountered in the map:\n",
    "\n",
    "### There are some discrepancies in the postcode:\n",
    "\n",
    "-  u'94087\\u200e': Unicode\n",
    "- ‘95014’: Postcode without extension, however, extension doesn’t serve much purpose\n",
    "- '95014-030': Postcode with wrong extension\n",
    "- '95014-0438': Postcode with correct extension\n",
    "\n",
    "### Abbreviations in the street names: \n",
    "\n",
    "- 'Blvd': set(['Los Gatos Blvd', 'Palm Valley Blvd']),\n",
    "- 'Dr': set(['Samaritan Dr']),\n",
    "- 'Ln': set(['Barber Ln', 'Branham Ln']),\n",
    "- 'Ave': set(['1425 E Dunne Ave', 'Greenbriar Ave','N Blaney Ave','W Washington Ave']),\n",
    "\n",
    "### The ‘other’ category of k values in the tag element has a wide variety of issues\n",
    "\n",
    "```\n",
    " 'gnis:Class',\n",
    " 'gnis:County',\n",
    " 'gnis:ST_num',\n",
    " 'gnis:ST_alpha',\n",
    " 'gnis:County_num'\n",
    "\n",
    " 'tiger:name_base_1',\n",
    " 'tiger:name_base_2',\n",
    " 'tiger:name_type_1',\n",
    " 'turn:lanes:both_ways',\n",
    " 'tiger:MTFCC',\n",
    " 'tiger:RTTYP',\n",
    " 'tiger:LINEARID'\n",
    " ```\n",
    "Fixing the problems above require quite a number of custom functions. But, the benefit would that the comprehensibility will increase dramatically. Some of the examples:\n",
    "\n",
    "Besides that there are some garbage data that does not make a geographical sense, but the specification of the location/place:\n",
    "\n",
    "- 'service:bicycle:chain_tool',\n",
    "- 'FIXME',\n",
    "- 'socket:type1',\n",
    "- 'socket:type1_chademo',\n",
    "- 'socket:type1_combo',\n",
    "- 'service:bicycle:pump'"
   ]
  },
  {
   "cell_type": "markdown",
   "metadata": {},
   "source": [
    "### Code snippets to find out the no of tags, nodes:"
   ]
  },
  {
   "cell_type": "markdown",
   "metadata": {},
   "source": [
    "def count_tags(filename):\n",
    "        \n",
    "    for event, elem in ET.iterparse(filename): \n",
    "        if elem.tag in tags.keys(): \n",
    "            tags[elem.tag]+=1 \n",
    "        else:\n",
    "            tags[elem.tag]=1  \n",
    "    return tags\n",
    "\n",
    "\n",
    "print count_tags(filename)"
   ]
  },
  {
   "cell_type": "markdown",
   "metadata": {},
   "source": [
    "#### Output:\n",
    "```\n",
    "{'node': 257543, 'nd': 302148, 'member': 3370, 'tag': 107229, 'relation': 372, 'way': 34265, 'osm': 1}\n",
    "```"
   ]
  },
  {
   "cell_type": "markdown",
   "metadata": {},
   "source": [
    "## A sample expected list and mapping dictionary"
   ]
  },
  {
   "cell_type": "markdown",
   "metadata": {},
   "source": [
    "expected = [\"Avenue\",\"Alameda\", \"Barcelona\",\"Boulevard\",\"Broadway\",\"Circle\",\n",
    "            \"Drive\",\"Court\",\"East\",\"Expressway\", \"Highway\",\"Lane\",\"Loop\",\n",
    "            \"Luna\",\"Marino\",\"Napoli\",\"Palamos\",\"Parkway\",\"Paviso\",\"Place\",\n",
    "            \"Plaza\",\"Lane\",\"Road\", \"Real\",\"Sorrento\",\"Square\",\"Street\",\n",
    "            \"Trail\",\"Terrace\",\"Volante\",\"Way\",\"West\"]\n",
    "\n",
    "mapping = { \"St\": \"Street\",\"Ave\": \"Avenue\", \"ave\":\"Avenue\",\"Blvd\":\"Boulevard\",\n",
    "           \"Rd\": \"Road\", \"Ln\":\"Lane\",\"Dr\":\"Drive\"}\n",
    "\n",
    "def update_name(name, mapping):\n",
    "   \n",
    "    m = street_type_re.search(name)\n",
    "    if m:\n",
    "        street_type = m.group() \n",
    "        \n",
    "        if street_type in mapping.keys():\n",
    "           \n",
    "            name = re.sub(m.group(), mapping[m.group()], name)\n",
    "            \n",
    "    return name\n"
   ]
  },
  {
   "cell_type": "markdown",
   "metadata": {},
   "source": [
    "#### Sample output:\n",
    "    \n",
    "```\n",
    "Barber Ln => Barber Lane\n",
    "Branham Ln => Branham Lane\n",
    "Pruneridge Ave #6 => Pruneridge Ave #6\n",
    "Casa Verde St => Casa Verde Street\n",
    "Wolfe Rd => Wolfe Road\n",
    "Berryessa Rd => Berryessa Road\n",
    "Mt Hamilton Rd => Mt Hamilton Road\n",
    "```"
   ]
  },
  {
   "cell_type": "markdown",
   "metadata": {},
   "source": [
    "### Cleaning the postal codes:\n",
    "\n",
    "zip1 = re.compile(r'^\\d{5}')\n",
    "\n",
    "zip2 = re.compile(r'\\d{5}-\\d{4}')\n",
    "\n",
    "\n",
    "def correct_zip(t):\n",
    "\n",
    "    m = re.search(zip1, t)\n",
    "    \n",
    "    if m:\n",
    "        n = re.search(zip2, t)\n",
    "        if n:\n",
    "            return  t, \" ==>> \", n.group()\n",
    "        else:\n",
    "            return  t, \" ==>> \", m.group()\n",
    "    else:\n",
    "        return  t, \" ==>>\", \"None\""
   ]
  },
  {
   "cell_type": "markdown",
   "metadata": {},
   "source": [
    "#### Sample output:\n",
    "\n",
    "```\n",
    "('94086-6406', ' ==>> ', '94086-6406')\n",
    "('94086-640', ' ==>> ', '94086')\n",
    "('94086', ' ==>> ', '94086')\n",
    "('None', ' ==>>', 'None')\n",
    "('CUPERTINO', ' ==>>', 'None')\n",
    "```"
   ]
  },
  {
   "cell_type": "markdown",
   "metadata": {},
   "source": [
    "# sql queries:"
   ]
  },
  {
   "cell_type": "markdown",
   "metadata": {},
   "source": [
    "select count(distinct uid) from nodes"
   ]
  },
  {
   "cell_type": "markdown",
   "metadata": {},
   "source": [
    "909"
   ]
  },
  {
   "cell_type": "markdown",
   "metadata": {},
   "source": [
    "select count(distinct uid) from ways"
   ]
  },
  {
   "cell_type": "markdown",
   "metadata": {},
   "source": [
    "598"
   ]
  },
  {
   "cell_type": "markdown",
   "metadata": {},
   "source": [
    "```\n",
    "select count(*) from nodes\n",
    "select count(*) from ways\n",
    "```"
   ]
  },
  {
   "cell_type": "markdown",
   "metadata": {},
   "source": [
    "##### nodes:\n",
    "257543\n",
    "##### ways:\n",
    "34265"
   ]
  },
  {
   "cell_type": "markdown",
   "metadata": {},
   "source": [
    "### Top 10 nodes_tags"
   ]
  },
  {
   "cell_type": "markdown",
   "metadata": {},
   "source": [
    "```\n",
    "select key, count(*) from nodes_tags\n",
    "group by key\n",
    "order by count(*)\n",
    "```"
   ]
  },
  {
   "cell_type": "markdown",
   "metadata": {},
   "source": [
    "#### Output:\n",
    "```\n",
    "    key           count(*)\n",
    "    \n",
    "- 0\thighway\t      2285\n",
    "- 1\thousenumber\t  999\n",
    "- 2\tstreet\t      973\n",
    "- 3\tname\t      863\n",
    "- 4\tamenity\t      624\n",
    "- 5\tcrossing      604\n",
    "- 6\tcity\t      506\n",
    "- 7\tpostcode\t  439\n",
    "- 8\tnatural\t      397\n",
    "- 9\tsource        307\n",
    "```"
   ]
  },
  {
   "cell_type": "markdown",
   "metadata": {},
   "source": [
    "### Top five amenities:"
   ]
  },
  {
   "cell_type": "markdown",
   "metadata": {},
   "source": [
    "```\n",
    "select value, count(*) from ways_tags\n",
    "where key = 'amenity' \n",
    "group by value\n",
    "order by count(*) desc\n",
    "limit 5\n",
    "```"
   ]
  },
  {
   "cell_type": "markdown",
   "metadata": {},
   "source": [
    "#### Output:\n",
    "```\n",
    "    value\t            count(*)\n",
    "0\tparking\t            309\n",
    "1\tschool\t            73\n",
    "2\trestaurant\t        29\n",
    "3\tplace_of_worship\t26\n",
    "4\tfast_food\t        20\n",
    "```"
   ]
  },
  {
   "cell_type": "markdown",
   "metadata": {},
   "source": [
    "### Top 5 kinds of highways in the nodes:"
   ]
  },
  {
   "cell_type": "markdown",
   "metadata": {},
   "source": [
    "```\n",
    "select value, count(*) from nodes_tags\n",
    "where key = 'highway'\n",
    "group by value\n",
    "order by count(*) desc limit 5;\n",
    "```"
   ]
  },
  {
   "cell_type": "markdown",
   "metadata": {},
   "source": [
    "#### Output:\n",
    "```\n",
    "    value\t         count(*)\n",
    "0\tturning_circle\t 848\n",
    "1\tcrossing\t     643\n",
    "2\ttraffic_signals\t 426\n",
    "3\tstop\t         201\n",
    "4\tbus_stop\t     69\n",
    "```"
   ]
  },
  {
   "cell_type": "markdown",
   "metadata": {},
   "source": [
    "### Top 5 most popular cuisines in San Jose:"
   ]
  },
  {
   "cell_type": "markdown",
   "metadata": {},
   "source": [
    "```\n",
    "select value, count(*) from nodes_tags\n",
    "where key = 'cuisine'\n",
    "group by value\n",
    "order by count(*) desc limit 5\n",
    "```"
   ]
  },
  {
   "cell_type": "markdown",
   "metadata": {},
   "source": [
    "#### Output:\n",
    "```\n",
    "    value\t    count(*)\n",
    "0\tvietnamese\t16\n",
    "1\tsandwich\t15\n",
    "2\tchinese\t    13\n",
    "3\tcoffee_shop\t13\n",
    "4\tmexican\t    11\n",
    "```"
   ]
  },
  {
   "cell_type": "markdown",
   "metadata": {},
   "source": [
    "### Top 5 Chinese food enthusiasts in San Jose:"
   ]
  },
  {
   "cell_type": "markdown",
   "metadata": {},
   "source": [
    "```\n",
    "select nodes.user \n",
    "from nodes join nodes_tags on nodes.id=nodes_tags.id\n",
    "where key = 'cuisine' and value = 'chinese'\n",
    "```"
   ]
  },
  {
   "cell_type": "markdown",
   "metadata": {},
   "source": [
    "#### Output:\n",
    "```\tuser\n",
    "0\tandyyue\n",
    "1\txybot\n",
    "2\txybot\n",
    "3\tWalk and walk around\n",
    "4\tYC Chao\n",
    "5\tlyiu\n",
    "```"
   ]
  },
  {
   "cell_type": "markdown",
   "metadata": {},
   "source": [
    "# Insights:\n",
    "\n",
    "1.\tWe can see that there is a larger number of nodes than ways on the map.\n",
    "2.\tHowever, larger number of ways are tagged than nodes by nearly 8.5 times.\n",
    "3.\tIt looks like nodes have markets or hangout places while the ways have offices or schools.\n",
    "4.\tAsian food is quite popular in San Jose.\n",
    "5.\tThere is a guy named Minh Nguyen who is crazy about Vietnamese food in San Jose.\n",
    "6.\tWe can conclude that there are lot of people who probably like Chinese food.\n"
   ]
  },
  {
   "cell_type": "markdown",
   "metadata": {},
   "source": [
    "# Benefits and anticipated problem in the implementation of solution:\n",
    "\n",
    "Submission document includes thoughtful discussion about the benefits as well as \n",
    "some anticipated problems in implementing the improvement.\n",
    "\n",
    "- Some of the street names are like \"Pruneridge Ave #6\" or \"Concourse Dr #81\"\n",
    "- Ideally it should have ended with \"Avenue\" and \"Drive\" respectively. \n",
    "\n",
    "**Benefits**:\n",
    "\n",
    "- Usually the street address should be like \"6 Pruneridge Avenue\" or \"81 Concourse Drive\", thus, the foreost benefit would be the consistency in the street address.\n",
    "\n",
    "**Anticipated issues**:\n",
    "\n",
    "- Such erroneous street names are quite unique and write a function or visually inspecting the data, won't be worth the benefit. For example, we may have to right a customised function/block of code to clean 1 or 2 or may be 3 such streets and there are quite of few of such kind\n",
    "\n",
    "Further, there are few erroneous entries, for example one street address has just one word \"yes\", it is extremely difficult to know what the user intended to do and such corrections might be painstaking.\n",
    "\n",
    "\n",
    "\n",
    "\n",
    "\n",
    "\n",
    "- For the zip code, the majority of zipcodes have the format \"99999-9999\" or \"99999\". The former also includes the extension and describes a precise location while the latter is not bad at all. However, there were a few like \"99999-99\" or \"99999-999\" and in these zip codes the extension has been dropped. But, there were also a few entries like 'CA 95116', 'CUPERTINO' that require disproportaionate amount of efforts.\n",
    "\n",
    "**Benefits**:\n",
    "\n",
    "- 'CA 95116' can be corrected to the correct format, as it does contain the zipcode, but in a reverse order.\n",
    "\n",
    "**Anticipated issues**:\n",
    "\n",
    "- But, 'CUPERTINO' as a zipcode is useless.\n"
   ]
  },
  {
   "cell_type": "markdown",
   "metadata": {},
   "source": [
    "# Suggestions:"
   ]
  },
  {
   "cell_type": "markdown",
   "metadata": {},
   "source": [
    "Other than GPS data, I think the tagging of the places and their street names and types can be made error proof, \n",
    "by creating an inbuilt program to prompt or suggest the user to choose the street type or zip code from a list of \n",
    "expected values created from vetted street names, when he or she types in the address. For example, if a user types \n",
    "in 'bou' that curser can prompt 'boulevard' or when a user types in an incomplete or wrong area code the curser can \n",
    "prompt \"wrong area code\", because, area codes follow a pretty standard numeric pattern.  \n",
    "\n",
    "Further, a standardised format could be assigned to the features of shop or amenities, like XYZ motors is a mechanic shop \n",
    "not a car dealership. This part is a little difficult and can be corrected over a long period of time."
   ]
  }
 ],
 "metadata": {
  "kernelspec": {
   "display_name": "Python [conda env:DAND]",
   "language": "python",
   "name": "conda-env-DAND-py"
  },
  "language_info": {
   "codemirror_mode": {
    "name": "ipython",
    "version": 2
   },
   "file_extension": ".py",
   "mimetype": "text/x-python",
   "name": "python",
   "nbconvert_exporter": "python",
   "pygments_lexer": "ipython2",
   "version": "2.7.12"
  }
 },
 "nbformat": 4,
 "nbformat_minor": 2
}
