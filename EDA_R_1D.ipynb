{
 "cells": [
  {
   "cell_type": "markdown",
   "metadata": {},
   "source": [
    "## Creating Histogram using one variable/column:"
   ]
  },
  {
   "cell_type": "code",
   "execution_count": 2,
   "metadata": {
    "collapsed": false
   },
   "outputs": [
    {
     "data": {
      "text/html": [
       "<table>\n",
       "<thead><tr><th scope=col>userid</th><th scope=col>age</th><th scope=col>dob_day</th><th scope=col>dob_year</th><th scope=col>dob_month</th><th scope=col>gender</th><th scope=col>tenure</th><th scope=col>friend_count</th><th scope=col>friendships_initiated</th><th scope=col>likes</th><th scope=col>likes_received</th><th scope=col>mobile_likes</th><th scope=col>mobile_likes_received</th><th scope=col>www_likes</th><th scope=col>www_likes_received</th></tr></thead>\n",
       "<tbody>\n",
       "\t<tr><td>2094382</td><td>14     </td><td>19     </td><td>1999   </td><td>11     </td><td>male   </td><td>266    </td><td>0      </td><td>0      </td><td>0      </td><td>0      </td><td>0      </td><td>0      </td><td>0      </td><td>0      </td></tr>\n",
       "\t<tr><td>1192601</td><td>14     </td><td> 2     </td><td>1999   </td><td>11     </td><td>female </td><td>  6    </td><td>0      </td><td>0      </td><td>0      </td><td>0      </td><td>0      </td><td>0      </td><td>0      </td><td>0      </td></tr>\n",
       "\t<tr><td>2083884</td><td>14     </td><td>16     </td><td>1999   </td><td>11     </td><td>male   </td><td> 13    </td><td>0      </td><td>0      </td><td>0      </td><td>0      </td><td>0      </td><td>0      </td><td>0      </td><td>0      </td></tr>\n",
       "</tbody>\n",
       "</table>\n"
      ],
      "text/latex": [
       "\\begin{tabular}{r|lllllllllllllll}\n",
       " userid & age & dob\\_day & dob\\_year & dob\\_month & gender & tenure & friend\\_count & friendships\\_initiated & likes & likes\\_received & mobile\\_likes & mobile\\_likes\\_received & www\\_likes & www\\_likes\\_received\\\\\n",
       "\\hline\n",
       "\t 2094382 & 14      & 19      & 1999    & 11      & male    & 266     & 0       & 0       & 0       & 0       & 0       & 0       & 0       & 0      \\\\\n",
       "\t 1192601 & 14      &  2      & 1999    & 11      & female  &   6     & 0       & 0       & 0       & 0       & 0       & 0       & 0       & 0      \\\\\n",
       "\t 2083884 & 14      & 16      & 1999    & 11      & male    &  13     & 0       & 0       & 0       & 0       & 0       & 0       & 0       & 0      \\\\\n",
       "\\end{tabular}\n"
      ],
      "text/markdown": [
       "\n",
       "userid | age | dob_day | dob_year | dob_month | gender | tenure | friend_count | friendships_initiated | likes | likes_received | mobile_likes | mobile_likes_received | www_likes | www_likes_received | \n",
       "|---|---|---|\n",
       "| 2094382 | 14      | 19      | 1999    | 11      | male    | 266     | 0       | 0       | 0       | 0       | 0       | 0       | 0       | 0       | \n",
       "| 1192601 | 14      |  2      | 1999    | 11      | female  |   6     | 0       | 0       | 0       | 0       | 0       | 0       | 0       | 0       | \n",
       "| 2083884 | 14      | 16      | 1999    | 11      | male    |  13     | 0       | 0       | 0       | 0       | 0       | 0       | 0       | 0       | \n",
       "\n",
       "\n"
      ],
      "text/plain": [
       "  userid  age dob_day dob_year dob_month gender tenure friend_count\n",
       "1 2094382 14  19      1999     11        male   266    0           \n",
       "2 1192601 14   2      1999     11        female   6    0           \n",
       "3 2083884 14  16      1999     11        male    13    0           \n",
       "  friendships_initiated likes likes_received mobile_likes mobile_likes_received\n",
       "1 0                     0     0              0            0                    \n",
       "2 0                     0     0              0            0                    \n",
       "3 0                     0     0              0            0                    \n",
       "  www_likes www_likes_received\n",
       "1 0         0                 \n",
       "2 0         0                 \n",
       "3 0         0                 "
      ]
     },
     "metadata": {},
     "output_type": "display_data"
    },
    {
     "data": {
      "text/html": [
       "<table>\n",
       "<thead><tr><th scope=col>userid</th><th scope=col>age</th><th scope=col>dob_day</th><th scope=col>dob_year</th><th scope=col>dob_month</th><th scope=col>gender</th><th scope=col>tenure</th><th scope=col>friend_count</th><th scope=col>friendships_initiated</th><th scope=col>likes</th><th scope=col>likes_received</th><th scope=col>mobile_likes</th><th scope=col>mobile_likes_received</th><th scope=col>www_likes</th><th scope=col>www_likes_received</th></tr></thead>\n",
       "<tbody>\n",
       "\t<tr><td>2094382</td><td>14     </td><td>19     </td><td>1999   </td><td>11     </td><td>male   </td><td>266    </td><td>0      </td><td>0      </td><td>0      </td><td>0      </td><td>0      </td><td>0      </td><td>0      </td><td>0      </td></tr>\n",
       "\t<tr><td>1192601</td><td>14     </td><td> 2     </td><td>1999   </td><td>11     </td><td>female </td><td>  6    </td><td>0      </td><td>0      </td><td>0      </td><td>0      </td><td>0      </td><td>0      </td><td>0      </td><td>0      </td></tr>\n",
       "\t<tr><td>2083884</td><td>14     </td><td>16     </td><td>1999   </td><td>11     </td><td>male   </td><td> 13    </td><td>0      </td><td>0      </td><td>0      </td><td>0      </td><td>0      </td><td>0      </td><td>0      </td><td>0      </td></tr>\n",
       "\t<tr><td>1203168</td><td>14     </td><td>25     </td><td>1999   </td><td>12     </td><td>female </td><td> 93    </td><td>0      </td><td>0      </td><td>0      </td><td>0      </td><td>0      </td><td>0      </td><td>0      </td><td>0      </td></tr>\n",
       "</tbody>\n",
       "</table>\n"
      ],
      "text/latex": [
       "\\begin{tabular}{r|lllllllllllllll}\n",
       " userid & age & dob\\_day & dob\\_year & dob\\_month & gender & tenure & friend\\_count & friendships\\_initiated & likes & likes\\_received & mobile\\_likes & mobile\\_likes\\_received & www\\_likes & www\\_likes\\_received\\\\\n",
       "\\hline\n",
       "\t 2094382 & 14      & 19      & 1999    & 11      & male    & 266     & 0       & 0       & 0       & 0       & 0       & 0       & 0       & 0      \\\\\n",
       "\t 1192601 & 14      &  2      & 1999    & 11      & female  &   6     & 0       & 0       & 0       & 0       & 0       & 0       & 0       & 0      \\\\\n",
       "\t 2083884 & 14      & 16      & 1999    & 11      & male    &  13     & 0       & 0       & 0       & 0       & 0       & 0       & 0       & 0      \\\\\n",
       "\t 1203168 & 14      & 25      & 1999    & 12      & female  &  93     & 0       & 0       & 0       & 0       & 0       & 0       & 0       & 0      \\\\\n",
       "\\end{tabular}\n"
      ],
      "text/markdown": [
       "\n",
       "userid | age | dob_day | dob_year | dob_month | gender | tenure | friend_count | friendships_initiated | likes | likes_received | mobile_likes | mobile_likes_received | www_likes | www_likes_received | \n",
       "|---|---|---|---|\n",
       "| 2094382 | 14      | 19      | 1999    | 11      | male    | 266     | 0       | 0       | 0       | 0       | 0       | 0       | 0       | 0       | \n",
       "| 1192601 | 14      |  2      | 1999    | 11      | female  |   6     | 0       | 0       | 0       | 0       | 0       | 0       | 0       | 0       | \n",
       "| 2083884 | 14      | 16      | 1999    | 11      | male    |  13     | 0       | 0       | 0       | 0       | 0       | 0       | 0       | 0       | \n",
       "| 1203168 | 14      | 25      | 1999    | 12      | female  |  93     | 0       | 0       | 0       | 0       | 0       | 0       | 0       | 0       | \n",
       "\n",
       "\n"
      ],
      "text/plain": [
       "  userid  age dob_day dob_year dob_month gender tenure friend_count\n",
       "1 2094382 14  19      1999     11        male   266    0           \n",
       "2 1192601 14   2      1999     11        female   6    0           \n",
       "3 2083884 14  16      1999     11        male    13    0           \n",
       "4 1203168 14  25      1999     12        female  93    0           \n",
       "  friendships_initiated likes likes_received mobile_likes mobile_likes_received\n",
       "1 0                     0     0              0            0                    \n",
       "2 0                     0     0              0            0                    \n",
       "3 0                     0     0              0            0                    \n",
       "4 0                     0     0              0            0                    \n",
       "  www_likes www_likes_received\n",
       "1 0         0                 \n",
       "2 0         0                 \n",
       "3 0         0                 \n",
       "4 0         0                 "
      ]
     },
     "metadata": {},
     "output_type": "display_data"
    },
    {
     "data": {
      "text/html": [
       "<ol class=list-inline>\n",
       "\t<li>'userid'</li>\n",
       "\t<li>'age'</li>\n",
       "\t<li>'dob_day'</li>\n",
       "\t<li>'dob_year'</li>\n",
       "\t<li>'dob_month'</li>\n",
       "\t<li>'gender'</li>\n",
       "\t<li>'tenure'</li>\n",
       "\t<li>'friend_count'</li>\n",
       "\t<li>'friendships_initiated'</li>\n",
       "\t<li>'likes'</li>\n",
       "\t<li>'likes_received'</li>\n",
       "\t<li>'mobile_likes'</li>\n",
       "\t<li>'mobile_likes_received'</li>\n",
       "\t<li>'www_likes'</li>\n",
       "\t<li>'www_likes_received'</li>\n",
       "</ol>\n"
      ],
      "text/latex": [
       "\\begin{enumerate*}\n",
       "\\item 'userid'\n",
       "\\item 'age'\n",
       "\\item 'dob\\_day'\n",
       "\\item 'dob\\_year'\n",
       "\\item 'dob\\_month'\n",
       "\\item 'gender'\n",
       "\\item 'tenure'\n",
       "\\item 'friend\\_count'\n",
       "\\item 'friendships\\_initiated'\n",
       "\\item 'likes'\n",
       "\\item 'likes\\_received'\n",
       "\\item 'mobile\\_likes'\n",
       "\\item 'mobile\\_likes\\_received'\n",
       "\\item 'www\\_likes'\n",
       "\\item 'www\\_likes\\_received'\n",
       "\\end{enumerate*}\n"
      ],
      "text/markdown": [
       "1. 'userid'\n",
       "2. 'age'\n",
       "3. 'dob_day'\n",
       "4. 'dob_year'\n",
       "5. 'dob_month'\n",
       "6. 'gender'\n",
       "7. 'tenure'\n",
       "8. 'friend_count'\n",
       "9. 'friendships_initiated'\n",
       "10. 'likes'\n",
       "11. 'likes_received'\n",
       "12. 'mobile_likes'\n",
       "13. 'mobile_likes_received'\n",
       "14. 'www_likes'\n",
       "15. 'www_likes_received'\n",
       "\n",
       "\n"
      ],
      "text/plain": [
       " [1] \"userid\"                \"age\"                   \"dob_day\"              \n",
       " [4] \"dob_year\"              \"dob_month\"             \"gender\"               \n",
       " [7] \"tenure\"                \"friend_count\"          \"friendships_initiated\"\n",
       "[10] \"likes\"                 \"likes_received\"        \"mobile_likes\"         \n",
       "[13] \"mobile_likes_received\" \"www_likes\"             \"www_likes_received\"   "
      ]
     },
     "metadata": {},
     "output_type": "display_data"
    }
   ],
   "source": [
    "# list.files() # To know the list of files in the working directory\n",
    "head(read.csv('pseudo_facebook.tsv', sep=\"\\t\"),3) \n",
    "\n",
    "head(read.delim('pseudo_facebook.tsv'),4) \n",
    "\n",
    "# read.delim() function defaults to the tab character as the separator between values \n",
    "# and the period as the decimal character. Run ?read.csv or ?read.delim in the console for more details.\n",
    "\n",
    "df <- read.csv('pseudo_facebook.tsv', sep=\"\\t\")\n",
    "\n",
    "# We can see there are lots of variables/columns, to get the names of the columns/variables\n",
    "names(df)"
   ]
  },
  {
   "cell_type": "code",
   "execution_count": 3,
   "metadata": {
    "collapsed": false
   },
   "outputs": [
    {
     "name": "stderr",
     "output_type": "stream",
     "text": [
      "`stat_bin()` using `bins = 30`. Pick better value with `binwidth`.\n"
     ]
    },
    {
     "data": {},
     "metadata": {},
     "output_type": "display_data"
    },
    {
     "data": {
      "image/png": "[encoded data removed]",
      "text/plain": [
       "plot without title"
      ]
     },
     "metadata": {},
     "output_type": "display_data"
    }
   ],
   "source": [
    "# Lets create a dob_day histogram to see how does the DOB of FB users vary\n",
    "# Before that we'll have to import the ggplot2 library in our notebook\n",
    "library(ggplot2)\n",
    "\n",
    "qplot(data=df,x=dob_day)\n",
    "\n",
    "## All the month days are well represented except for the 15th \n",
    "## Further it looks like,if users dont enter their DOB, system\n",
    "## by default makes it 1st of the month"
   ]
  },
  {
   "cell_type": "code",
   "execution_count": 4,
   "metadata": {
    "collapsed": false
   },
   "outputs": [
    {
     "name": "stderr",
     "output_type": "stream",
     "text": [
      "`stat_bin()` using `bins = 30`. Pick better value with `binwidth`.\n"
     ]
    },
    {
     "data": {},
     "metadata": {},
     "output_type": "display_data"
    },
    {
     "name": "stderr",
     "output_type": "stream",
     "text": [
      "`stat_bin()` using `bins = 30`. Pick better value with `binwidth`.\n"
     ]
    },
    {
     "data": {},
     "metadata": {},
     "output_type": "display_data"
    },
    {
     "data": {
      "image/png": "[encoded data removed]",
      "text/plain": [
       "plot without title"
      ]
     },
     "metadata": {},
     "output_type": "display_data"
    },
    {
     "data": {
      "image/png": "[encoded data removed]",
      "text/plain": [
       "plot without title"
      ]
     },
     "metadata": {},
     "output_type": "display_data"
    }
   ],
   "source": [
    "# Lets try something else\n",
    "\n",
    "# In a recent change to ggplot2, all numeric data are considered continuous.\n",
    "# We can choose to define the scale of the plot\n",
    "# So, you have two options:\n",
    "\n",
    "### 1:\n",
    "# plot x as numeric, and use scale_x_continuous()\n",
    "\n",
    "qplot(x=dob_day, data = df) + scale_x_continuous(breaks=1:31)\n",
    "\n",
    "# For the continuous version, to see the boundaries between the bars, \n",
    "# you have to use the color argument:\n",
    "\n",
    "# qplot(x=dob_day, data = pf, color='red') + scale_x_continuous(breaks=1:31)\n",
    "# qplot() is for quick plotting, irrespective of the color borders will always be red.\n",
    "\n",
    "qplot(x=dob_day, data=df, color='blue') + scale_x_continuous(breaks=1:31)\n",
    "\n",
    "\n",
    "## In the plot above, we do get the boundaries b/n the bar colored\n",
    "## but, the abberation for the 15th day of the month still persists\n",
    "\n"
   ]
  },
  {
   "cell_type": "code",
   "execution_count": 5,
   "metadata": {
    "collapsed": false
   },
   "outputs": [
    {
     "data": {},
     "metadata": {},
     "output_type": "display_data"
    },
    {
     "data": {
      "image/png": "[encoded data removed]",
      "text/plain": [
       "plot without title"
      ]
     },
     "metadata": {},
     "output_type": "display_data"
    }
   ],
   "source": [
    "## 2:\n",
    "## Now lets try to plot x as a discrete variable:\n",
    "\n",
    "# plot x as a factor (i.e. a discrete variable) and use scale_x_discrete()\n",
    "qplot(x=as.factor(dob_day), data = df) + scale_x_discrete()\n",
    "\n",
    "## Now, we get the result we wanted"
   ]
  },
  {
   "cell_type": "code",
   "execution_count": 6,
   "metadata": {
    "collapsed": false
   },
   "outputs": [
    {
     "data": {},
     "metadata": {},
     "output_type": "display_data"
    },
    {
     "data": {
      "image/png": "[encoded data removed]",
      "text/plain": [
       "plot without title"
      ]
     },
     "metadata": {},
     "output_type": "display_data"
    }
   ],
   "source": [
    "## Lets try to do the same using ggplot()\n",
    "\n",
    "ggplot(aes(x=dob_day), data=df) + \n",
    "    geom_histogram(binwidth=1,color='blue') + \n",
    "        scale_x_continuous(breaks=1:31)\n",
    "\n",
    "## Its working...Great! Even if we choose the x variable to be continuous"
   ]
  },
  {
   "cell_type": "markdown",
   "metadata": {},
   "source": [
    "## Estimating the audience size:"
   ]
  },
  {
   "cell_type": "code",
   "execution_count": 7,
   "metadata": {
    "collapsed": false
   },
   "outputs": [
    {
     "data": {},
     "metadata": {},
     "output_type": "display_data"
    },
    {
     "data": {
      "image/png": "[encoded data removed]",
      "text/plain": [
       "plot without title"
      ]
     },
     "metadata": {},
     "output_type": "display_data"
    }
   ],
   "source": [
    "## Check whether people's perception of their audience on the FB matches\n",
    "## the reality...who is actually seeing and sharing the content\n",
    "\n",
    "## Lets plot DOB for each month:\n",
    "## facet_wrap()\n",
    "ggplot(data = df, aes(x = dob_day)) +\n",
    "  geom_histogram(binwidth = 1, color='blue') +\n",
    "      scale_x_continuous(breaks = 1:31) +\n",
    "          facet_wrap(~dob_month, ncol=6)\n",
    "\n",
    "# A very useful resource on the web:\n",
    "## https://stackoverflow.com/questions/42265341/histogram-binwidth-inconsistency-between-base-graphics-and-ggplot2\n",
    "\n",
    "## facet_wrap(formula)\n",
    "#  facet_wrap(~ any_variable)\n",
    "\n",
    "## To pass more than one variable\n",
    "## facet_grid(formula)\n",
    "## facet_grid(vertical ~ horizontal)"
   ]
  },
  {
   "cell_type": "markdown",
   "metadata": {},
   "source": [
    "### Detecting and dealing with the outliers:\n",
    "- sometimes it might be an anomaly or error,\n",
    "- while, it may also be the actual data points"
   ]
  },
  {
   "cell_type": "code",
   "execution_count": 8,
   "metadata": {
    "collapsed": false
   },
   "outputs": [
    {
     "data": {},
     "metadata": {},
     "output_type": "display_data"
    },
    {
     "data": {
      "image/png": "[encoded data removed]",
      "text/plain": [
       "plot without title"
      ]
     },
     "metadata": {},
     "output_type": "display_data"
    }
   ],
   "source": [
    "# Adjust the axis to have a better look at the data:\n",
    "qplot(x=as.factor(friend_count), data = df) + scale_x_discrete()\n",
    "# qplot(x=friend_count, data = df) + scale_x_discrete()\n"
   ]
  },
  {
   "cell_type": "code",
   "execution_count": 9,
   "metadata": {
    "collapsed": false
   },
   "outputs": [
    {
     "name": "stderr",
     "output_type": "stream",
     "text": [
      "`stat_bin()` using `bins = 30`. Pick better value with `binwidth`.\n"
     ]
    },
    {
     "data": {},
     "metadata": {},
     "output_type": "display_data"
    },
    {
     "data": {
      "image/png": "[encoded data removed]",
      "text/plain": [
       "plot without title"
      ]
     },
     "metadata": {},
     "output_type": "display_data"
    }
   ],
   "source": [
    "qplot(x=friend_count, data = df) \n",
    "\n",
    "# As we can see this is a long tail data, as most users have friends around 500.\n"
   ]
  },
  {
   "cell_type": "code",
   "execution_count": 10,
   "metadata": {
    "collapsed": false
   },
   "outputs": [
    {
     "name": "stderr",
     "output_type": "stream",
     "text": [
      "`stat_bin()` using `bins = 30`. Pick better value with `binwidth`.\n",
      "Warning message:\n",
      "\"Removed 2951 rows containing non-finite values (stat_bin).\""
     ]
    },
    {
     "data": {},
     "metadata": {},
     "output_type": "display_data"
    },
    {
     "name": "stderr",
     "output_type": "stream",
     "text": [
      "`stat_bin()` using `bins = 30`. Pick better value with `binwidth`.\n",
      "Warning message:\n",
      "\"Removed 2951 rows containing non-finite values (stat_bin).\""
     ]
    },
    {
     "data": {},
     "metadata": {},
     "output_type": "display_data"
    },
    {
     "data": {
      "image/png": "[encoded data removed]",
      "text/plain": [
       "plot without title"
      ]
     },
     "metadata": {},
     "output_type": "display_data"
    },
    {
     "data": {
      "image/png": "[encoded data removed]",
      "text/plain": [
       "plot without title"
      ]
     },
     "metadata": {},
     "output_type": "display_data"
    }
   ],
   "source": [
    "## Limit the axis\n",
    "\n",
    "## Lets examine the data along the tail, users w/ friends >1000\n",
    "qplot(x=friend_count, data = df , xlim = c(0,1000))\n",
    "\n",
    "## Another way is to add a layer\n",
    "\n",
    "qplot(x=friend_count, data = df) +\n",
    "    scale_x_continuous(limits = c(0, 1000))\n",
    "\n",
    "# qplot(x=friend_count, data = df, color = 'white') +\n",
    "#     scale_x_discrete(limits = c(0, 1000))\n",
    "\n"
   ]
  },
  {
   "cell_type": "code",
   "execution_count": 11,
   "metadata": {
    "collapsed": false
   },
   "outputs": [
    {
     "name": "stderr",
     "output_type": "stream",
     "text": [
      "Warning message:\n",
      "\"Removed 2951 rows containing non-finite values (stat_bin).\""
     ]
    },
    {
     "data": {},
     "metadata": {},
     "output_type": "display_data"
    },
    {
     "data": {
      "image/png": "[encoded data removed]",
      "text/plain": [
       "plot without title"
      ]
     },
     "metadata": {},
     "output_type": "display_data"
    }
   ],
   "source": [
    "## Adjusting the bin width\n",
    "\n",
    "qplot(x=friend_count, data = df, binwidth=25) +\n",
    "    scale_x_continuous(limits = c(0, 1000) , breaks=seq(0,1000,50)) "
   ]
  },
  {
   "cell_type": "code",
   "execution_count": 12,
   "metadata": {
    "collapsed": false
   },
   "outputs": [
    {
     "name": "stderr",
     "output_type": "stream",
     "text": [
      "Warning message:\n",
      "\"Removed 2951 rows containing non-finite values (stat_bin).\""
     ]
    },
    {
     "data": {},
     "metadata": {},
     "output_type": "display_data"
    },
    {
     "data": {
      "image/png": "[encoded data removed]",
      "text/plain": [
       "plot without title"
      ]
     },
     "metadata": {},
     "output_type": "display_data"
    }
   ],
   "source": [
    "## Lets split the data for male and female using facet\n",
    "\n",
    "qplot(x=friend_count, data = df, binwidth=25) +\n",
    "    scale_x_continuous(limits = c(0, 1000) , breaks=seq(0,1000,50)) +\n",
    "        facet_wrap(~gender)\n"
   ]
  },
  {
   "cell_type": "code",
   "execution_count": 13,
   "metadata": {
    "collapsed": false
   },
   "outputs": [
    {
     "name": "stderr",
     "output_type": "stream",
     "text": [
      "Warning message:\n",
      "\"Removed 2949 rows containing non-finite values (stat_bin).\""
     ]
    },
    {
     "data": {},
     "metadata": {},
     "output_type": "display_data"
    },
    {
     "name": "stderr",
     "output_type": "stream",
     "text": [
      "Warning message:\n",
      "\"Removed 2949 rows containing non-finite values (stat_bin).\""
     ]
    },
    {
     "data": {},
     "metadata": {},
     "output_type": "display_data"
    },
    {
     "data": {
      "image/png": "[encoded data removed]",
      "text/plain": [
       "plot without title"
      ]
     },
     "metadata": {},
     "output_type": "display_data"
    },
    {
     "data": {
      "image/png": "[encoded data removed]",
      "text/plain": [
       "plot without title"
      ]
     },
     "metadata": {},
     "output_type": "display_data"
    }
   ],
   "source": [
    "## Omitting NA observations:\n",
    "\n",
    "## Omit NA values for gender\n",
    "qplot(x=friend_count, data = subset(df, !is.na(gender)), binwidth=25) +\n",
    "    scale_x_continuous(limits = c(0, 1000) , breaks=seq(0,1000,50)) +\n",
    "        facet_wrap(~gender)\n",
    "\n",
    "## Omit all NA values...CAUTION!\n",
    "qplot(x=friend_count, data = na.omit(df), binwidth=25) +\n",
    "    scale_x_continuous(limits = c(0, 1000) , breaks=seq(0,1000,50)) +\n",
    "        facet_wrap(~gender)\n"
   ]
  },
  {
   "cell_type": "code",
   "execution_count": 14,
   "metadata": {
    "collapsed": false
   },
   "outputs": [
    {
     "data": {
      "text/plain": [
       "\n",
       "female   male \n",
       " 40254  58574 "
      ]
     },
     "metadata": {},
     "output_type": "display_data"
    }
   ],
   "source": [
    "## Still it is hard to determine, which gender has more friends on an average\n",
    "\n",
    "table(df$gender)"
   ]
  },
  {
   "cell_type": "code",
   "execution_count": 15,
   "metadata": {
    "collapsed": false
   },
   "outputs": [
    {
     "data": {
      "text/plain": [
       "df$gender: female\n",
       "   Min. 1st Qu.  Median    Mean 3rd Qu.    Max. \n",
       "      0      37      96     242     244    4923 \n",
       "------------------------------------------------------------ \n",
       "df$gender: male\n",
       "   Min. 1st Qu.  Median    Mean 3rd Qu.    Max. \n",
       "      0      27      74     165     182    4917 "
      ]
     },
     "metadata": {},
     "output_type": "display_data"
    }
   ],
   "source": [
    "## How to get average friend count by gender\n",
    "\n",
    "by(df$friend_count, df$gender, summary)\n",
    "\n",
    "## Voila! despite, males are larger in number, they have fewer friends on an average\n",
    "\n",
    "## Why would median be a better measure than mean\n",
    "# Bcoz, it is unaffected by the outlier."
   ]
  },
  {
   "cell_type": "code",
   "execution_count": 16,
   "metadata": {
    "collapsed": false
   },
   "outputs": [
    {
     "name": "stderr",
     "output_type": "stream",
     "text": [
      "Warning message:\n",
      "\"Removed 2 rows containing non-finite values (stat_bin).\""
     ]
    },
    {
     "data": {},
     "metadata": {},
     "output_type": "display_data"
    },
    {
     "name": "stderr",
     "output_type": "stream",
     "text": [
      "Warning message:\n",
      "\"Removed 26 rows containing non-finite values (stat_bin).\""
     ]
    },
    {
     "data": {},
     "metadata": {},
     "output_type": "display_data"
    },
    {
     "data": {
      "image/png": "[encoded data removed]",
      "text/plain": [
       "plot without title"
      ]
     },
     "metadata": {},
     "output_type": "display_data"
    },
    {
     "data": {
      "image/png": "[encoded data removed]",
      "text/plain": [
       "plot without title"
      ]
     },
     "metadata": {},
     "output_type": "display_data"
    }
   ],
   "source": [
    "## Next question, for how many days someone has been using FB\n",
    "\n",
    "# The parameter color determines the color outline of objects in a plot.\n",
    "# The parameter fill determines the color of the area inside objects in a plot.\n",
    "# How the color black and the hex code color of #099DD9 (a shade of blue) are wrapped inside of I(). \n",
    "# The I() functions stand for 'as is' and tells qplot to use them as colors.\n",
    "\n",
    "# Things we can adjust in a plot by reading the ggplot theme documentation\n",
    "#     http://ggplot2.tidyverse.org/reference/theme.html\n",
    "    \n",
    "qplot(x=tenure, data = df, binwidth=30,\n",
    "    color=I('black'), fill=I('#099DD9'))\n",
    "\n",
    "qplot(x=tenure/365, data = df, binwidth=0.25,\n",
    "    color=I('black'), fill=I('#F79420')) +\n",
    "        scale_x_continuous(breaks=seq(1,7,1), limits=c(0,7))"
   ]
  },
  {
   "cell_type": "code",
   "execution_count": 17,
   "metadata": {
    "collapsed": false
   },
   "outputs": [
    {
     "name": "stderr",
     "output_type": "stream",
     "text": [
      "Warning message:\n",
      "\"Removed 2 rows containing non-finite values (stat_bin).\""
     ]
    },
    {
     "data": {},
     "metadata": {},
     "output_type": "display_data"
    },
    {
     "name": "stderr",
     "output_type": "stream",
     "text": [
      "Warning message:\n",
      "\"Removed 2 rows containing non-finite values (stat_bin).\""
     ]
    },
    {
     "data": {},
     "metadata": {},
     "output_type": "display_data"
    },
    {
     "data": {
      "image/png": "[encoded data removed]",
      "text/plain": [
       "plot without title"
      ]
     },
     "metadata": {},
     "output_type": "display_data"
    },
    {
     "data": {
      "image/png": "[encoded data removed]",
      "text/plain": [
       "plot without title"
      ]
     },
     "metadata": {},
     "output_type": "display_data"
    }
   ],
   "source": [
    "ggplot(aes(x = tenure), data = df) +\n",
    "  geom_histogram(binwidth = 30, color = 'black', fill = '#099DD9')\n",
    "\n",
    "ggplot(aes(x = tenure/365), data = df) +\n",
    "  geom_histogram(binwidth = .25, color = 'black', fill = '#F79420')\n"
   ]
  },
  {
   "cell_type": "code",
   "execution_count": 18,
   "metadata": {
    "collapsed": false
   },
   "outputs": [
    {
     "name": "stderr",
     "output_type": "stream",
     "text": [
      "Warning message:\n",
      "\"Removed 26 rows containing non-finite values (stat_bin).\""
     ]
    },
    {
     "data": {},
     "metadata": {},
     "output_type": "display_data"
    },
    {
     "data": {
      "image/png": "[encoded data removed]",
      "text/plain": [
       "plot without title"
      ]
     },
     "metadata": {},
     "output_type": "display_data"
    }
   ],
   "source": [
    "## Labels:\n",
    "\n",
    "qplot(x=tenure/365, data = df, binwidth=0.25,\n",
    "    xlab='Number of years using facebook',\n",
    "    ylab='Number of users',\n",
    "    color=I('black'), fill=I('#F79420')) +\n",
    "        scale_x_continuous(breaks=seq(1,7,1), limits=c(0,7))\n",
    "\n"
   ]
  },
  {
   "cell_type": "code",
   "execution_count": 19,
   "metadata": {
    "collapsed": false
   },
   "outputs": [
    {
     "name": "stderr",
     "output_type": "stream",
     "text": [
      "Warning message:\n",
      "\"Removed 3687 rows containing non-finite values (stat_bin).\""
     ]
    },
    {
     "data": {},
     "metadata": {},
     "output_type": "display_data"
    },
    {
     "data": {
      "image/png": "[encoded data removed]",
      "text/plain": [
       "plot without title"
      ]
     },
     "metadata": {},
     "output_type": "display_data"
    }
   ],
   "source": [
    "## User ages:\n",
    "\n",
    "qplot(x=age, data = df, binwidth=1,\n",
    "    xlab='Age of users',\n",
    "    ylab='Number of users',\n",
    "    color=I('black'), fill=I('#5760AB')) +\n",
    "        scale_x_continuous(breaks=seq(1,100,5), limits=c(0,100))\n"
   ]
  },
  {
   "cell_type": "code",
   "execution_count": 20,
   "metadata": {
    "collapsed": false
   },
   "outputs": [
    {
     "data": {
      "text/plain": [
       "   Min. 1st Qu.  Median    Mean 3rd Qu.    Max. \n",
       "    0.0    31.0    82.0   196.4   206.0  4923.0 "
      ]
     },
     "metadata": {},
     "output_type": "display_data"
    },
    {
     "data": {
      "text/plain": [
       "   Min. 1st Qu.  Median    Mean 3rd Qu.    Max. \n",
       "   -Inf   1.491   1.914    -Inf   2.314   3.692 "
      ]
     },
     "metadata": {},
     "output_type": "display_data"
    },
    {
     "data": {
      "text/plain": [
       "   Min. 1st Qu.  Median    Mean 3rd Qu.    Max. \n",
       "  0.000   1.505   1.919   1.868   2.316   3.692 "
      ]
     },
     "metadata": {},
     "output_type": "display_data"
    },
    {
     "data": {
      "text/plain": [
       "   Min. 1st Qu.  Median    Mean 3rd Qu.    Max. \n",
       "  0.000   5.568   9.055  11.088  14.353  70.164 "
      ]
     },
     "metadata": {},
     "output_type": "display_data"
    }
   ],
   "source": [
    "## Transforming data\n",
    "\n",
    "# Most of the engagement variables like friends count, likes, comments, share etcetera\n",
    "# have very long tails. Some users have 10 or even 100 times the median value\n",
    "# In stats, we say that the data is over-dispersed and it helps to transform these\n",
    "# values so we can see the deviations and shorten the tail \n",
    "# Eg...friend-count histogram with the long tail, we can take log or square roots\n",
    "# doing so will help us see the patterns more clearly without being distracted by tail\n",
    "\n",
    "# Many statistical technique like linear regressions are based on the assumption\n",
    "# that variables have normal distribution, so by taking log of this variable,\n",
    "# we can transform our data in a maybe normal or something that closely resembles \n",
    "# a normal distribution\n",
    "\n",
    "summary(df$friend_count)\n",
    "\n",
    "summary(log10(df$friend_count)) \n",
    "\n",
    "# Intresting min=-inf, mean=-inf, bcoz some users might have 0 friends and log(0) is inf\n",
    "# To avoid that we can add 1 to all the friend_count\n",
    "\n",
    "summary(log10(df$friend_count + 1)) \n",
    "\n",
    "summary(sqrt(df$friend_count)) \n",
    "\n",
    "# We can create the histogram of transformed variables "
   ]
  },
  {
   "cell_type": "code",
   "execution_count": 22,
   "metadata": {
    "collapsed": false
   },
   "outputs": [
    {
     "name": "stderr",
     "output_type": "stream",
     "text": [
      "`stat_bin()` using `bins = 30`. Pick better value with `binwidth`.\n",
      "`stat_bin()` using `bins = 30`. Pick better value with `binwidth`.\n",
      "`stat_bin()` using `bins = 30`. Pick better value with `binwidth`.\n"
     ]
    },
    {
     "data": {
      "image/png": "[encoded data removed]",
      "text/plain": [
       "plot without title"
      ]
     },
     "metadata": {},
     "output_type": "display_data"
    }
   ],
   "source": [
    "## How to create multiple graphs on one page\n",
    "# (r_env) C:\\Users\\rkuma>conda install -c r r-gridextra\n",
    "# http://lightonphiri.org/blog/ggplot2-multiple-plots-in-one-graph-using-gridextra\n",
    "\n",
    "library(gridExtra)\n",
    "\n",
    "p1 = qplot(x=friend_count, data = df)\n",
    "p2 = qplot(x=log10(friend_count + 1), data = df)\n",
    "p3 = qplot(x=sqrt(friend_count), data = df)\n",
    "\n",
    "grid.arrange(p1, p2, p3, ncol=3) # we can set ncol as we want\n",
    "\n",
    "# 2nd plot is the best; kind of normalish, 3rd is not bad either; smaller tail\n"
   ]
  },
  {
   "cell_type": "code",
   "execution_count": 23,
   "metadata": {
    "collapsed": false
   },
   "outputs": [
    {
     "name": "stderr",
     "output_type": "stream",
     "text": [
      "`stat_bin()` using `bins = 30`. Pick better value with `binwidth`.\n",
      "Warning message:\n",
      "\"Transformation introduced infinite values in continuous x-axis\"`stat_bin()` using `bins = 30`. Pick better value with `binwidth`.\n",
      "Warning message:\n",
      "\"Removed 1962 rows containing non-finite values (stat_bin).\"`stat_bin()` using `bins = 30`. Pick better value with `binwidth`.\n"
     ]
    },
    {
     "data": {
      "image/png": "[encoded data removed]",
      "text/plain": [
       "plot without title"
      ]
     },
     "metadata": {},
     "output_type": "display_data"
    }
   ],
   "source": [
    "## Using ggplot\n",
    "\n",
    "p1 = ggplot(aes(x = friend_count), data = df) + geom_histogram()\n",
    "p2 = p1 + scale_x_log10()\n",
    "p3 = p1 + scale_x_sqrt()\n",
    "\n",
    "grid.arrange(p1, p2, p3, ncol=1)"
   ]
  },
  {
   "cell_type": "code",
   "execution_count": 26,
   "metadata": {
    "collapsed": false
   },
   "outputs": [
    {
     "name": "stderr",
     "output_type": "stream",
     "text": [
      "Warning message:\n",
      "\"Removed 2949 rows containing non-finite values (stat_bin).\"Warning message:\n",
      "\"Removed 4 rows containing missing values (geom_path).\""
     ]
    },
    {
     "data": {},
     "metadata": {},
     "output_type": "display_data"
    },
    {
     "data": {
      "image/png": "[encoded data removed]",
      "text/plain": [
       "plot without title"
      ]
     },
     "metadata": {},
     "output_type": "display_data"
    }
   ],
   "source": [
    "## Frequency polygon:\n",
    "\n",
    "# Good for comparing two or more distributions in a single frame:\n",
    "\n",
    "qplot(x=friend_count, data = subset(df, !is.na(gender)), binwidth=10, geom = 'freqpoly', color = gender) +\n",
    "    scale_x_continuous(limits = c(0, 1000) , breaks=seq(0,1000,50)) \n",
    "        \n"
   ]
  },
  {
   "cell_type": "code",
   "execution_count": 31,
   "metadata": {
    "collapsed": false
   },
   "outputs": [
    {
     "name": "stderr",
     "output_type": "stream",
     "text": [
      "Warning message:\n",
      "\"Removed 2949 rows containing non-finite values (stat_bin).\"Warning message:\n",
      "\"Removed 4 rows containing missing values (geom_path).\""
     ]
    },
    {
     "data": {},
     "metadata": {},
     "output_type": "display_data"
    },
    {
     "data": {
      "image/png": "[encoded data removed]",
      "text/plain": [
       "plot without title"
      ]
     },
     "metadata": {},
     "output_type": "display_data"
    }
   ],
   "source": [
    "## The plot above doesn't aswer our question that which one of the two have \n",
    "## more friends on an avg, so change the y axis: from count to proportion\n",
    "\n",
    "qplot(x=friend_count, y= ..count../sum(..count..),\n",
    "      data = subset(df, !is.na(gender)), binwidth=10,\n",
    "      xlab = 'friend_count', ylab = 'Proportion of users with that friend_Count',\n",
    "      geom = 'freqpoly', color = gender) +\n",
    "      scale_x_continuous(limits = c(0, 1000) , breaks=seq(0,1000,50))\n",
    "\n",
    "\n",
    "\n"
   ]
  },
  {
   "cell_type": "code",
   "execution_count": 44,
   "metadata": {
    "collapsed": false
   },
   "outputs": [
    {
     "name": "stderr",
     "output_type": "stream",
     "text": [
      "`stat_bin()` using `bins = 30`. Pick better value with `binwidth`.\n"
     ]
    },
    {
     "data": {},
     "metadata": {},
     "output_type": "display_data"
    },
    {
     "data": {
      "image/png": "[encoded data removed]",
      "text/plain": [
       "plot without title"
      ]
     },
     "metadata": {},
     "output_type": "display_data"
    }
   ],
   "source": [
    "## Which gender makes more www_likes\n",
    "\n",
    "qplot(x=www_likes, \n",
    "      data = subset(df, !is.na(gender)),\n",
    "      \n",
    "      geom = 'freqpoly', color = gender) +\n",
    "    scale_x_continuous() \n",
    "\n",
    "## It doesn't reveal much, take log10"
   ]
  },
  {
   "cell_type": "code",
   "execution_count": 42,
   "metadata": {
    "collapsed": false
   },
   "outputs": [
    {
     "name": "stderr",
     "output_type": "stream",
     "text": [
      "Scale for 'x' is already present. Adding another scale for 'x', which will\n",
      "replace the existing scale.\n",
      "Warning message:\n",
      "\"Transformation introduced infinite values in continuous x-axis\"`stat_bin()` using `bins = 30`. Pick better value with `binwidth`.\n",
      "Warning message:\n",
      "\"Removed 60935 rows containing non-finite values (stat_bin).\""
     ]
    },
    {
     "data": {},
     "metadata": {},
     "output_type": "display_data"
    },
    {
     "data": {
      "image/png": "[encoded data removed]",
      "text/plain": [
       "plot without title"
      ]
     },
     "metadata": {},
     "output_type": "display_data"
    }
   ],
   "source": [
    "qplot(x= www_likes, \n",
    "      data = subset(df, !is.na(gender)),\n",
    "      \n",
    "      geom = 'freqpoly', color = gender) +\n",
    "    scale_x_continuous() +\n",
    "    scale_x_log10()\n",
    "\n",
    "\n",
    "## It looks like women overtake men at certain point of time."
   ]
  },
  {
   "cell_type": "code",
   "execution_count": 46,
   "metadata": {
    "collapsed": false
   },
   "outputs": [
    {
     "data": {
      "text/plain": [
       "df$gender: female\n",
       "    Min.  1st Qu.   Median     Mean  3rd Qu.     Max. \n",
       "    0.00     0.00     0.00    87.14    25.00 14865.00 \n",
       "------------------------------------------------------------ \n",
       "df$gender: male\n",
       "    Min.  1st Qu.   Median     Mean  3rd Qu.     Max. \n",
       "    0.00     0.00     0.00    24.42     2.00 12903.00 "
      ]
     },
     "metadata": {},
     "output_type": "display_data"
    },
    {
     "data": {
      "text/plain": [
       "df$gender: female\n",
       "[1] 3507665\n",
       "------------------------------------------------------------ \n",
       "df$gender: male\n",
       "[1] 1430175"
      ]
     },
     "metadata": {},
     "output_type": "display_data"
    }
   ],
   "source": [
    "by(df$www_likes, df$gender, summary)\n",
    "\n",
    "by(df$www_likes, df$gender, sum)\n",
    "\n"
   ]
  },
  {
   "cell_type": "markdown",
   "metadata": {},
   "source": [
    "### Box plots:"
   ]
  },
  {
   "cell_type": "code",
   "execution_count": 47,
   "metadata": {
    "collapsed": false
   },
   "outputs": [
    {
     "data": {},
     "metadata": {},
     "output_type": "display_data"
    },
    {
     "data": {
      "image/png": "[encoded data removed]",
      "text/plain": [
       "plot without title"
      ]
     },
     "metadata": {},
     "output_type": "display_data"
    }
   ],
   "source": [
    "qplot(x= gender, y = friend_count,\n",
    "      data = subset(df, !is.na(gender)),\n",
    "      geom = 'boxplot')\n",
    "\n",
    "## Lots of outliers, boxes are too tiny"
   ]
  },
  {
   "cell_type": "code",
   "execution_count": 51,
   "metadata": {
    "collapsed": false
   },
   "outputs": [
    {
     "name": "stderr",
     "output_type": "stream",
     "text": [
      "Warning message:\n",
      "\"Removed 2949 rows containing non-finite values (stat_boxplot).\""
     ]
    },
    {
     "data": {},
     "metadata": {},
     "output_type": "display_data"
    },
    {
     "data": {
      "image/png": "[encoded data removed]",
      "text/plain": [
       "plot without title"
      ]
     },
     "metadata": {},
     "output_type": "display_data"
    }
   ],
   "source": [
    "qplot(x= gender, y = friend_count,\n",
    "      data = subset(df, !is.na(gender)),\n",
    "      geom = 'boxplot') +\n",
    "      scale_y_continuous(limits = c(0,1000))\n",
    "\n",
    "## This might not be correct as we have removed certain data points"
   ]
  },
  {
   "cell_type": "code",
   "execution_count": 52,
   "metadata": {
    "collapsed": false
   },
   "outputs": [
    {
     "data": {},
     "metadata": {},
     "output_type": "display_data"
    },
    {
     "data": {
      "image/png": "[encoded data removed]",
      "text/plain": [
       "plot without title"
      ]
     },
     "metadata": {},
     "output_type": "display_data"
    }
   ],
   "source": [
    "qplot(x= gender, y = friend_count,\n",
    "      data = subset(df, !is.na(gender)),\n",
    "      geom = 'boxplot') +\n",
    "      coord_cartesian(ylim = c(0,1000))\n",
    "\n",
    "## Notice the diff, here we have not removed any data point."
   ]
  },
  {
   "cell_type": "code",
   "execution_count": 53,
   "metadata": {
    "collapsed": false
   },
   "outputs": [
    {
     "data": {
      "text/plain": [
       "df$gender: female\n",
       "   Min. 1st Qu.  Median    Mean 3rd Qu.    Max. \n",
       "      0      37      96     242     244    4923 \n",
       "------------------------------------------------------------ \n",
       "df$gender: male\n",
       "   Min. 1st Qu.  Median    Mean 3rd Qu.    Max. \n",
       "      0      27      74     165     182    4917 "
      ]
     },
     "metadata": {},
     "output_type": "display_data"
    },
    {
     "data": {},
     "metadata": {},
     "output_type": "display_data"
    },
    {
     "data": {
      "image/png": "[encoded data removed]",
      "text/plain": [
       "plot without title"
      ]
     },
     "metadata": {},
     "output_type": "display_data"
    }
   ],
   "source": [
    "## Lets have a closer look at quartiles:\n",
    "\n",
    "by(df$friend_count, df$gender, summary)\n",
    "\n",
    "qplot(x= gender, y = friend_count,\n",
    "      data = subset(df, !is.na(gender)),\n",
    "      geom = 'boxplot') +\n",
    "      coord_cartesian(ylim = c(0,250))\n"
   ]
  },
  {
   "cell_type": "code",
   "execution_count": 54,
   "metadata": {
    "collapsed": false
   },
   "outputs": [
    {
     "data": {
      "text/plain": [
       "df$gender: female\n",
       "   Min. 1st Qu.  Median    Mean 3rd Qu.    Max. \n",
       "    0.0    19.0    49.0   113.9   124.8  3654.0 \n",
       "------------------------------------------------------------ \n",
       "df$gender: male\n",
       "   Min. 1st Qu.  Median    Mean 3rd Qu.    Max. \n",
       "    0.0    15.0    44.0   103.1   111.0  4144.0 "
      ]
     },
     "metadata": {},
     "output_type": "display_data"
    }
   ],
   "source": [
    "## On an average, who initiated more friendship, men or women:\n",
    "\n",
    "by(df$friendships_initiated, df$gender, summary)"
   ]
  },
  {
   "cell_type": "code",
   "execution_count": 61,
   "metadata": {
    "collapsed": false
   },
   "outputs": [
    {
     "data": {
      "text/plain": [
       "   Min. 1st Qu.  Median    Mean 3rd Qu.    Max. \n",
       "    0.0     0.0     4.0   106.1    46.0 25111.0 "
      ]
     },
     "metadata": {},
     "output_type": "display_data"
    },
    {
     "data": {
      "text/plain": [
       "   Mode   FALSE    TRUE \n",
       "logical   35056   63947 "
      ]
     },
     "metadata": {},
     "output_type": "display_data"
    },
    {
     "data": {
      "text/html": [
       "<dl class=dl-horizontal>\n",
       "\t<dt>0</dt>\n",
       "\t\t<dd>35056</dd>\n",
       "\t<dt>1</dt>\n",
       "\t\t<dd>63947</dd>\n",
       "</dl>\n"
      ],
      "text/latex": [
       "\\begin{description*}\n",
       "\\item[0] 35056\n",
       "\\item[1] 63947\n",
       "\\end{description*}\n"
      ],
      "text/markdown": [
       "0\n",
       ":   350561\n",
       ":   63947\n",
       "\n"
      ],
      "text/plain": [
       "    0     1 \n",
       "35056 63947 "
      ]
     },
     "metadata": {},
     "output_type": "display_data"
    },
    {
     "data": {
      "text/html": [
       "0.645909719907478"
      ],
      "text/latex": [
       "0.645909719907478"
      ],
      "text/markdown": [
       "0.645909719907478"
      ],
      "text/plain": [
       "[1] 0.6459097"
      ]
     },
     "metadata": {},
     "output_type": "display_data"
    }
   ],
   "source": [
    "## Other ways of transforming variables than log and square root:\n",
    "## eg... binary\n",
    "\n",
    "summary(df$mobile_likes)\n",
    "# median is zero, that means we have lots of zeroes..\n",
    "\n",
    "# Making it a logical variable\n",
    "summary(df$mobile_likes >0)\n",
    "\n",
    "# Create a new variable in the data frame with NA values.\n",
    "df$mobile_check_in <- NA\n",
    "\n",
    "df$mobile_check_in = ifelse(df$mobile_likes >0, 1, 0)\n",
    "df$mobile_check_in = factor(df$mobile_check_in)\n",
    "summary(df$mobile_check_in)\n",
    "\n",
    "### What percentage of chekin use mobile?\n",
    "\n",
    "sum(df$mobile_check_in == 1)/length(df$mobile_check_in)"
   ]
  },
  {
   "cell_type": "code",
   "execution_count": null,
   "metadata": {
    "collapsed": true
   },
   "outputs": [],
   "source": []
  },
  {
   "cell_type": "markdown",
   "metadata": {
    "collapsed": true
   },
   "source": [
    "# Problem sets in one variable:"
   ]
  },
  {
   "cell_type": "code",
   "execution_count": 4,
   "metadata": {
    "collapsed": false
   },
   "outputs": [
    {
     "data": {
      "text/html": [
       "<table>\n",
       "<thead><tr><th scope=col>carat</th><th scope=col>cut</th><th scope=col>color</th><th scope=col>clarity</th><th scope=col>depth</th><th scope=col>table</th><th scope=col>price</th><th scope=col>x</th><th scope=col>y</th><th scope=col>z</th></tr></thead>\n",
       "<tbody>\n",
       "\t<tr><td>0.23   </td><td>Ideal  </td><td>E      </td><td>SI2    </td><td>61.5   </td><td>55     </td><td>326    </td><td>3.95   </td><td>3.98   </td><td>2.43   </td></tr>\n",
       "\t<tr><td>0.21   </td><td>Premium</td><td>E      </td><td>SI1    </td><td>59.8   </td><td>61     </td><td>326    </td><td>3.89   </td><td>3.84   </td><td>2.31   </td></tr>\n",
       "\t<tr><td>0.23   </td><td>Good   </td><td>E      </td><td>VS1    </td><td>56.9   </td><td>65     </td><td>327    </td><td>4.05   </td><td>4.07   </td><td>2.31   </td></tr>\n",
       "\t<tr><td>0.29   </td><td>Premium</td><td>I      </td><td>VS2    </td><td>62.4   </td><td>58     </td><td>334    </td><td>4.20   </td><td>4.23   </td><td>2.63   </td></tr>\n",
       "</tbody>\n",
       "</table>\n"
      ],
      "text/latex": [
       "\\begin{tabular}{r|llllllllll}\n",
       " carat & cut & color & clarity & depth & table & price & x & y & z\\\\\n",
       "\\hline\n",
       "\t 0.23    & Ideal   & E       & SI2     & 61.5    & 55      & 326     & 3.95    & 3.98    & 2.43   \\\\\n",
       "\t 0.21    & Premium & E       & SI1     & 59.8    & 61      & 326     & 3.89    & 3.84    & 2.31   \\\\\n",
       "\t 0.23    & Good    & E       & VS1     & 56.9    & 65      & 327     & 4.05    & 4.07    & 2.31   \\\\\n",
       "\t 0.29    & Premium & I       & VS2     & 62.4    & 58      & 334     & 4.20    & 4.23    & 2.63   \\\\\n",
       "\\end{tabular}\n"
      ],
      "text/markdown": [
       "\n",
       "carat | cut | color | clarity | depth | table | price | x | y | z | \n",
       "|---|---|---|---|\n",
       "| 0.23    | Ideal   | E       | SI2     | 61.5    | 55      | 326     | 3.95    | 3.98    | 2.43    | \n",
       "| 0.21    | Premium | E       | SI1     | 59.8    | 61      | 326     | 3.89    | 3.84    | 2.31    | \n",
       "| 0.23    | Good    | E       | VS1     | 56.9    | 65      | 327     | 4.05    | 4.07    | 2.31    | \n",
       "| 0.29    | Premium | I       | VS2     | 62.4    | 58      | 334     | 4.20    | 4.23    | 2.63    | \n",
       "\n",
       "\n"
      ],
      "text/plain": [
       "  carat cut     color clarity depth table price x    y    z   \n",
       "1 0.23  Ideal   E     SI2     61.5  55    326   3.95 3.98 2.43\n",
       "2 0.21  Premium E     SI1     59.8  61    326   3.89 3.84 2.31\n",
       "3 0.23  Good    E     VS1     56.9  65    327   4.05 4.07 2.31\n",
       "4 0.29  Premium I     VS2     62.4  58    334   4.20 4.23 2.63"
      ]
     },
     "metadata": {},
     "output_type": "display_data"
    },
    {
     "name": "stdout",
     "output_type": "stream",
     "text": [
      "Classes 'tbl_df', 'tbl' and 'data.frame':\t53940 obs. of  10 variables:\n",
      " $ carat  : num  0.23 0.21 0.23 0.29 0.31 0.24 0.24 0.26 0.22 0.23 ...\n",
      " $ cut    : Ord.factor w/ 5 levels \"Fair\"<\"Good\"<..: 5 4 2 4 2 3 3 3 1 3 ...\n",
      " $ color  : Ord.factor w/ 7 levels \"D\"<\"E\"<\"F\"<\"G\"<..: 2 2 2 6 7 7 6 5 2 5 ...\n",
      " $ clarity: Ord.factor w/ 8 levels \"I1\"<\"SI2\"<\"SI1\"<..: 2 3 5 4 2 6 7 3 4 5 ...\n",
      " $ depth  : num  61.5 59.8 56.9 62.4 63.3 62.8 62.3 61.9 65.1 59.4 ...\n",
      " $ table  : num  55 61 65 58 58 57 57 55 61 61 ...\n",
      " $ price  : int  326 326 327 334 335 336 336 337 337 338 ...\n",
      " $ x      : num  3.95 3.89 4.05 4.2 4.34 3.94 3.95 4.07 3.87 4 ...\n",
      " $ y      : num  3.98 3.84 4.07 4.23 4.35 3.96 3.98 4.11 3.78 4.05 ...\n",
      " $ z      : num  2.43 2.31 2.31 2.63 2.75 2.48 2.47 2.53 2.49 2.39 ...\n"
     ]
    },
    {
     "data": {
      "text/plain": [
       "     carat               cut        color        clarity          depth      \n",
       " Min.   :0.2000   Fair     : 1610   D: 6775   SI1    :13065   Min.   :43.00  \n",
       " 1st Qu.:0.4000   Good     : 4906   E: 9797   VS2    :12258   1st Qu.:61.00  \n",
       " Median :0.7000   Very Good:12082   F: 9542   SI2    : 9194   Median :61.80  \n",
       " Mean   :0.7979   Premium  :13791   G:11292   VS1    : 8171   Mean   :61.75  \n",
       " 3rd Qu.:1.0400   Ideal    :21551   H: 8304   VVS2   : 5066   3rd Qu.:62.50  \n",
       " Max.   :5.0100                     I: 5422   VVS1   : 3655   Max.   :79.00  \n",
       "                                    J: 2808   (Other): 2531                  \n",
       "     table           price             x                y         \n",
       " Min.   :43.00   Min.   :  326   Min.   : 0.000   Min.   : 0.000  \n",
       " 1st Qu.:56.00   1st Qu.:  950   1st Qu.: 4.710   1st Qu.: 4.720  \n",
       " Median :57.00   Median : 2401   Median : 5.700   Median : 5.710  \n",
       " Mean   :57.46   Mean   : 3933   Mean   : 5.731   Mean   : 5.735  \n",
       " 3rd Qu.:59.00   3rd Qu.: 5324   3rd Qu.: 6.540   3rd Qu.: 6.540  \n",
       " Max.   :95.00   Max.   :18823   Max.   :10.740   Max.   :58.900  \n",
       "                                                                  \n",
       "       z         \n",
       " Min.   : 0.000  \n",
       " 1st Qu.: 2.910  \n",
       " Median : 3.530  \n",
       " Mean   : 3.539  \n",
       " 3rd Qu.: 4.040  \n",
       " Max.   :31.800  \n",
       "                 "
      ]
     },
     "metadata": {},
     "output_type": "display_data"
    },
    {
     "data": {
      "text/html": [
       "<ol class=list-inline>\n",
       "\t<li>53940</li>\n",
       "\t<li>10</li>\n",
       "</ol>\n"
      ],
      "text/latex": [
       "\\begin{enumerate*}\n",
       "\\item 53940\n",
       "\\item 10\n",
       "\\end{enumerate*}\n"
      ],
      "text/markdown": [
       "1. 53940\n",
       "2. 10\n",
       "\n",
       "\n"
      ],
      "text/plain": [
       "[1] 53940    10"
      ]
     },
     "metadata": {},
     "output_type": "display_data"
    },
    {
     "data": {
      "text/html": [
       "53940"
      ],
      "text/latex": [
       "53940"
      ],
      "text/markdown": [
       "53940"
      ],
      "text/plain": [
       "[1] 53940"
      ]
     },
     "metadata": {},
     "output_type": "display_data"
    }
   ],
   "source": [
    "# diamonds datasets come with ggplot package, so we'll have to load \n",
    "# ggplot first\n",
    "\n",
    "library(ggplot2)\n",
    "\n",
    "data(diamonds)\n",
    "\n",
    "head(diamonds, 4)\n",
    "str(diamonds)\n",
    "summary(diamonds)\n",
    "dim(diamonds)\n",
    "nrow(diamonds)"
   ]
  },
  {
   "cell_type": "code",
   "execution_count": 13,
   "metadata": {
    "collapsed": true
   },
   "outputs": [],
   "source": [
    "# What color represent the best color for the diamonds\n",
    "\n",
    "?diamonds # Has the answer\\\n",
    "# We know that color variable is an (ordered) categorical variable\n",
    "# with 7 levels, but we dont know it is an inc or decr order\n",
    "# so refer ?diamonds#"
   ]
  },
  {
   "cell_type": "code",
   "execution_count": 16,
   "metadata": {
    "collapsed": false
   },
   "outputs": [
    {
     "data": {
      "text/html": [
       "3932.79972191324"
      ],
      "text/latex": [
       "3932.79972191324"
      ],
      "text/markdown": [
       "3932.79972191324"
      ],
      "text/plain": [
       "[1] 3932.8"
      ]
     },
     "metadata": {},
     "output_type": "display_data"
    },
    {
     "data": {
      "text/html": [
       "2401"
      ],
      "text/latex": [
       "2401"
      ],
      "text/markdown": [
       "2401"
      ],
      "text/plain": [
       "[1] 2401"
      ]
     },
     "metadata": {},
     "output_type": "display_data"
    }
   ],
   "source": [
    "mean(diamonds$price)\n",
    "median(diamonds$price)"
   ]
  },
  {
   "cell_type": "code",
   "execution_count": 25,
   "metadata": {
    "collapsed": false
   },
   "outputs": [
    {
     "data": {
      "text/html": [
       "0"
      ],
      "text/latex": [
       "0"
      ],
      "text/markdown": [
       "0"
      ],
      "text/plain": [
       "[1] 0"
      ]
     },
     "metadata": {},
     "output_type": "display_data"
    },
    {
     "data": {
      "text/html": [
       "1729"
      ],
      "text/latex": [
       "1729"
      ],
      "text/markdown": [
       "1729"
      ],
      "text/plain": [
       "[1] 1729"
      ]
     },
     "metadata": {},
     "output_type": "display_data"
    },
    {
     "data": {
      "text/html": [
       "1656"
      ],
      "text/latex": [
       "1656"
      ],
      "text/markdown": [
       "1656"
      ],
      "text/plain": [
       "[1] 1656"
      ]
     },
     "metadata": {},
     "output_type": "display_data"
    }
   ],
   "source": [
    "## Cost of diamonds < $250, < $500, >=$1500?\n",
    "\n",
    "t = diamonds$price\n",
    "t1 = t[t<250]\n",
    "length(t1)\n",
    "t2 = t[t<500]\n",
    "length(t2)\n",
    "t3 = t[t>=15000]\n",
    "length(t3)"
   ]
  },
  {
   "cell_type": "code",
   "execution_count": 26,
   "metadata": {
    "collapsed": false
   },
   "outputs": [
    {
     "name": "stderr",
     "output_type": "stream",
     "text": [
      "`stat_bin()` using `bins = 30`. Pick better value with `binwidth`.\n"
     ]
    },
    {
     "data": {},
     "metadata": {},
     "output_type": "display_data"
    },
    {
     "data": {
      "image/png": "[encoded data removed]",
      "text/plain": [
       "plot without title"
      ]
     },
     "metadata": {},
     "output_type": "display_data"
    }
   ],
   "source": [
    "# Explore the largest peak in the price histogram you created earlier.\n",
    "\n",
    "# Try limiting the x-axis, altering the bin width,\n",
    "# and setting different breaks on the x-axis.\n",
    "\n",
    "# You can save images by using the ggsave() command.\n",
    "# ggsave() will save the last plot created.\n",
    "# For example...\n",
    "#                  qplot(x = price, data = diamonds)\n",
    "#                  ggsave('priceHistogram.png')\n",
    "\n",
    "## Create histpgram of prices of diamonds\n",
    "qplot(data=diamonds, x=price)"
   ]
  },
  {
   "cell_type": "code",
   "execution_count": 31,
   "metadata": {
    "collapsed": false
   },
   "outputs": [
    {
     "name": "stderr",
     "output_type": "stream",
     "text": [
      "Warning message:\n",
      "\"Removed 35659 rows containing non-finite values (stat_bin).\""
     ]
    },
    {
     "data": {},
     "metadata": {},
     "output_type": "display_data"
    },
    {
     "name": "stderr",
     "output_type": "stream",
     "text": [
      "Saving 6.67 x 6.67 in image\n",
      "Warning message:\n",
      "\"Removed 35659 rows containing non-finite values (stat_bin).\""
     ]
    },
    {
     "data": {
      "image/png": "[encoded data removed]",
      "text/plain": [
       "plot without title"
      ]
     },
     "metadata": {},
     "output_type": "display_data"
    }
   ],
   "source": [
    "qplot(data=diamonds, x=price, binwidth = 25, color='white') +\n",
    "    scale_x_continuous(limits = c(500, 1500), breaks = seq(500, 1500, 50))\n",
    "\n",
    "ggsave('priceHistogram.png')"
   ]
  },
  {
   "cell_type": "code",
   "execution_count": 33,
   "metadata": {
    "collapsed": false
   },
   "outputs": [
    {
     "name": "stderr",
     "output_type": "stream",
     "text": [
      "Warning message:\n",
      "\"Removed 35659 rows containing non-finite values (stat_bin).\""
     ]
    },
    {
     "data": {},
     "metadata": {},
     "output_type": "display_data"
    },
    {
     "data": {
      "image/png": "[encoded data removed]",
      "text/plain": [
       "plot without title"
      ]
     },
     "metadata": {},
     "output_type": "display_data"
    }
   ],
   "source": [
    "# Break out the histogram of diamond prices by cut.\n",
    "qplot(data=diamonds, x=price, binwidth = 25, color='white') +\n",
    "    scale_x_continuous(limits = c(500, 1500), breaks = seq(500, 1500, 50))+\n",
    "        facet_wrap(~cut, ncol=1)"
   ]
  },
  {
   "cell_type": "code",
   "execution_count": 47,
   "metadata": {
    "collapsed": false
   },
   "outputs": [
    {
     "data": {
      "text/html": [
       "18823"
      ],
      "text/latex": [
       "18823"
      ],
      "text/markdown": [
       "18823"
      ],
      "text/plain": [
       "[1] 18823"
      ]
     },
     "metadata": {},
     "output_type": "display_data"
    },
    {
     "data": {
      "text/html": [
       "<table>\n",
       "<thead><tr><th scope=col>cut</th></tr></thead>\n",
       "<tbody>\n",
       "\t<tr><td>Premium</td></tr>\n",
       "</tbody>\n",
       "</table>\n"
      ],
      "text/latex": [
       "\\begin{tabular}{r|l}\n",
       " cut\\\\\n",
       "\\hline\n",
       "\t Premium\\\\\n",
       "\\end{tabular}\n"
      ],
      "text/markdown": [
       "\n",
       "cut | \n",
       "|---|\n",
       "| Premium | \n",
       "\n",
       "\n"
      ],
      "text/plain": [
       "  cut    \n",
       "1 Premium"
      ]
     },
     "metadata": {},
     "output_type": "display_data"
    },
    {
     "data": {
      "text/html": [
       "<table>\n",
       "<thead><tr><th scope=col>carat</th><th scope=col>cut</th><th scope=col>color</th><th scope=col>clarity</th><th scope=col>depth</th><th scope=col>table</th><th scope=col>price</th><th scope=col>x</th><th scope=col>y</th><th scope=col>z</th></tr></thead>\n",
       "<tbody>\n",
       "\t<tr><td>2.29   </td><td>Premium</td><td>I      </td><td>VS2    </td><td>60.8   </td><td>60     </td><td>18823  </td><td>8.5    </td><td>8.47   </td><td>5.16   </td></tr>\n",
       "</tbody>\n",
       "</table>\n"
      ],
      "text/latex": [
       "\\begin{tabular}{r|llllllllll}\n",
       " carat & cut & color & clarity & depth & table & price & x & y & z\\\\\n",
       "\\hline\n",
       "\t 2.29    & Premium & I       & VS2     & 60.8    & 60      & 18823   & 8.5     & 8.47    & 5.16   \\\\\n",
       "\\end{tabular}\n"
      ],
      "text/markdown": [
       "\n",
       "carat | cut | color | clarity | depth | table | price | x | y | z | \n",
       "|---|\n",
       "| 2.29    | Premium | I       | VS2     | 60.8    | 60      | 18823   | 8.5     | 8.47    | 5.16    | \n",
       "\n",
       "\n"
      ],
      "text/plain": [
       "  carat cut     color clarity depth table price x   y    z   \n",
       "1 2.29  Premium I     VS2     60.8  60    18823 8.5 8.47 5.16"
      ]
     },
     "metadata": {},
     "output_type": "display_data"
    },
    {
     "data": {
      "text/html": [
       "326"
      ],
      "text/latex": [
       "326"
      ],
      "text/markdown": [
       "326"
      ],
      "text/plain": [
       "[1] 326"
      ]
     },
     "metadata": {},
     "output_type": "display_data"
    },
    {
     "data": {
      "text/html": [
       "<table>\n",
       "<thead><tr><th scope=col>carat</th><th scope=col>cut</th><th scope=col>color</th><th scope=col>clarity</th><th scope=col>depth</th><th scope=col>table</th><th scope=col>price</th><th scope=col>x</th><th scope=col>y</th><th scope=col>z</th></tr></thead>\n",
       "<tbody>\n",
       "\t<tr><td>0.23   </td><td>Ideal  </td><td>E      </td><td>SI2    </td><td>61.5   </td><td>55     </td><td>326    </td><td>3.95   </td><td>3.98   </td><td>2.43   </td></tr>\n",
       "\t<tr><td>0.21   </td><td>Premium</td><td>E      </td><td>SI1    </td><td>59.8   </td><td>61     </td><td>326    </td><td>3.89   </td><td>3.84   </td><td>2.31   </td></tr>\n",
       "</tbody>\n",
       "</table>\n"
      ],
      "text/latex": [
       "\\begin{tabular}{r|llllllllll}\n",
       " carat & cut & color & clarity & depth & table & price & x & y & z\\\\\n",
       "\\hline\n",
       "\t 0.23    & Ideal   & E       & SI2     & 61.5    & 55      & 326     & 3.95    & 3.98    & 2.43   \\\\\n",
       "\t 0.21    & Premium & E       & SI1     & 59.8    & 61      & 326     & 3.89    & 3.84    & 2.31   \\\\\n",
       "\\end{tabular}\n"
      ],
      "text/markdown": [
       "\n",
       "carat | cut | color | clarity | depth | table | price | x | y | z | \n",
       "|---|---|\n",
       "| 0.23    | Ideal   | E       | SI2     | 61.5    | 55      | 326     | 3.95    | 3.98    | 2.43    | \n",
       "| 0.21    | Premium | E       | SI1     | 59.8    | 61      | 326     | 3.89    | 3.84    | 2.31    | \n",
       "\n",
       "\n"
      ],
      "text/plain": [
       "  carat cut     color clarity depth table price x    y    z   \n",
       "1 0.23  Ideal   E     SI2     61.5  55    326   3.95 3.98 2.43\n",
       "2 0.21  Premium E     SI1     59.8  61    326   3.89 3.84 2.31"
      ]
     },
     "metadata": {},
     "output_type": "display_data"
    },
    {
     "data": {
      "text/html": [
       "<ol class=list-inline>\n",
       "\t<li>'Fair'</li>\n",
       "\t<li>'Good'</li>\n",
       "\t<li>'Very Good'</li>\n",
       "\t<li>'Premium'</li>\n",
       "\t<li>'Ideal'</li>\n",
       "</ol>\n"
      ],
      "text/latex": [
       "\\begin{enumerate*}\n",
       "\\item 'Fair'\n",
       "\\item 'Good'\n",
       "\\item 'Very Good'\n",
       "\\item 'Premium'\n",
       "\\item 'Ideal'\n",
       "\\end{enumerate*}\n"
      ],
      "text/markdown": [
       "1. 'Fair'\n",
       "2. 'Good'\n",
       "3. 'Very Good'\n",
       "4. 'Premium'\n",
       "5. 'Ideal'\n",
       "\n",
       "\n"
      ],
      "text/plain": [
       "[1] \"Fair\"      \"Good\"      \"Very Good\" \"Premium\"   \"Ideal\"    "
      ]
     },
     "metadata": {},
     "output_type": "display_data"
    },
    {
     "data": {
      "text/html": [
       "3282"
      ],
      "text/latex": [
       "3282"
      ],
      "text/markdown": [
       "3282"
      ],
      "text/plain": [
       "[1] 3282"
      ]
     },
     "metadata": {},
     "output_type": "display_data"
    },
    {
     "data": {
      "text/html": [
       "3050.5"
      ],
      "text/latex": [
       "3050.5"
      ],
      "text/markdown": [
       "3050.5"
      ],
      "text/plain": [
       "[1] 3050.5"
      ]
     },
     "metadata": {},
     "output_type": "display_data"
    },
    {
     "data": {
      "text/html": [
       "2648"
      ],
      "text/latex": [
       "2648"
      ],
      "text/markdown": [
       "2648"
      ],
      "text/plain": [
       "[1] 2648"
      ]
     },
     "metadata": {},
     "output_type": "display_data"
    },
    {
     "data": {
      "text/html": [
       "3185"
      ],
      "text/latex": [
       "3185"
      ],
      "text/markdown": [
       "3185"
      ],
      "text/plain": [
       "[1] 3185"
      ]
     },
     "metadata": {},
     "output_type": "display_data"
    },
    {
     "data": {
      "text/html": [
       "1810"
      ],
      "text/latex": [
       "1810"
      ],
      "text/markdown": [
       "1810"
      ],
      "text/plain": [
       "[1] 1810"
      ]
     },
     "metadata": {},
     "output_type": "display_data"
    },
    {
     "data": {
      "text/html": [
       "1810"
      ],
      "text/latex": [
       "1810"
      ],
      "text/markdown": [
       "1810"
      ],
      "text/plain": [
       "[1] 1810"
      ]
     },
     "metadata": {},
     "output_type": "display_data"
    }
   ],
   "source": [
    "# Which cut has the highest priced diamond?\n",
    "\n",
    "max(diamonds$price)\n",
    "diamonds[diamonds$price==18823, 'cut']\n",
    "diamonds[diamonds$price==18823, ]\n",
    "\n",
    "# Which cut has the lowest priced diamond?\n",
    "min(diamonds$price)\n",
    "diamonds[diamonds$price==326,]\n",
    "\n",
    "\n",
    "# Which cut has the lowest median price diamond?\n",
    "levels(diamonds$cut)\n",
    "a=median(diamonds[diamonds$cut=='Fair', ]$price)\n",
    "a\n",
    "b=median(diamonds[diamonds$cut=='Good', ]$price)\n",
    "b\n",
    "c=median(diamonds[diamonds$cut=='Very Good', ]$price)\n",
    "c\n",
    "d=median(diamonds[diamonds$cut=='Premium', ]$price)\n",
    "d\n",
    "e=median(diamonds[diamonds$cut=='Ideal', ]$price)\n",
    "e\n",
    "\n",
    "A=c(a,b,c,d,e)\n",
    "min(A)"
   ]
  },
  {
   "cell_type": "code",
   "execution_count": 49,
   "metadata": {
    "collapsed": false
   },
   "outputs": [
    {
     "data": {
      "text/plain": [
       "diamonds$cut: Fair\n",
       "   Min. 1st Qu.  Median    Mean 3rd Qu.    Max. \n",
       "    337    2050    3282    4359    5206   18574 \n",
       "------------------------------------------------------------ \n",
       "diamonds$cut: Good\n",
       "   Min. 1st Qu.  Median    Mean 3rd Qu.    Max. \n",
       "    327    1145    3050    3929    5028   18788 \n",
       "------------------------------------------------------------ \n",
       "diamonds$cut: Very Good\n",
       "   Min. 1st Qu.  Median    Mean 3rd Qu.    Max. \n",
       "    336     912    2648    3982    5373   18818 \n",
       "------------------------------------------------------------ \n",
       "diamonds$cut: Premium\n",
       "   Min. 1st Qu.  Median    Mean 3rd Qu.    Max. \n",
       "    326    1046    3185    4584    6296   18823 \n",
       "------------------------------------------------------------ \n",
       "diamonds$cut: Ideal\n",
       "   Min. 1st Qu.  Median    Mean 3rd Qu.    Max. \n",
       "    326     878    1810    3458    4678   18806 "
      ]
     },
     "metadata": {},
     "output_type": "display_data"
    }
   ],
   "source": [
    "#Super short-cut method for the question above:\n",
    "\n",
    "by(diamonds$price, diamonds$cut, summary)"
   ]
  },
  {
   "cell_type": "code",
   "execution_count": null,
   "metadata": {
    "collapsed": true
   },
   "outputs": [],
   "source": [
    "# This means the distributions should be somewhat similar,\n",
    "# but the histograms we created don't show that.\n",
    "\n",
    "# The 'Fair' and 'Good' diamonds appear to have \n",
    "# different distributions compared to the better\n",
    "# cut diamonds. They seem somewhat uniform\n",
    "# on the left with long tails on the right.\n",
    "\n",
    "# Let's look in to this more.\n",
    "\n",
    "# Look up the documentation for facet_wrap in R Studio.\n",
    "# Then, scroll back up and add a parameter to facet_wrap so that\n",
    "# the y-axis in the histograms is not fixed. You want the y-axis to\n",
    "# be different for each histogram."
   ]
  },
  {
   "cell_type": "code",
   "execution_count": 54,
   "metadata": {
    "collapsed": false
   },
   "outputs": [
    {
     "name": "stderr",
     "output_type": "stream",
     "text": [
      "Warning message:\n",
      "\"Removed 35659 rows containing non-finite values (stat_bin).\""
     ]
    },
    {
     "data": {},
     "metadata": {},
     "output_type": "display_data"
    },
    {
     "data": {
      "image/png": "[encoded data removed]",
      "text/plain": [
       "plot without title"
      ]
     },
     "metadata": {},
     "output_type": "display_data"
    }
   ],
   "source": [
    "# ?facet_wrap\n",
    "\n",
    "## I just added one more argument 'scales' in the facet_wrap()\n",
    "\n",
    "# Break out the histogram of diamond prices by cut.\n",
    "qplot(data=diamonds, x=price, binwidth = 25, color='white') +\n",
    "    scale_x_continuous(limits = c(500, 1500), breaks = seq(500, 1500, 50))+\n",
    "        facet_wrap(~cut, ncol=1, scales='free')"
   ]
  },
  {
   "cell_type": "code",
   "execution_count": 64,
   "metadata": {
    "collapsed": false
   },
   "outputs": [
    {
     "data": {},
     "metadata": {},
     "output_type": "display_data"
    },
    {
     "data": {
      "image/png": "[encoded data removed]",
      "text/plain": [
       "plot without title"
      ]
     },
     "metadata": {},
     "output_type": "display_data"
    }
   ],
   "source": [
    "# Create a histogram of price per carat\n",
    "# and facet it by cut. You can make adjustments\n",
    "# to the code from the previous exercise to get\n",
    "# started.\n",
    "\n",
    "# Adjust the bin width and transform the scale\n",
    "# of the x-axis using log10.\n",
    "\n",
    "qplot(data=diamonds, x=log10(price/carat), binwidth = 0.05, color='white') +\n",
    "    scale_x_continuous(limits = c(2, 5), breaks = seq(2, 5, 0.1))+\n",
    "        facet_wrap(~cut, ncol=1, scales='free')\n",
    "\n",
    "\n",
    "#      scale_x_continuous(limits = c(500, 1500), breaks = seq(500, 1500, 50))+\n",
    "       \n",
    "\n",
    "# ?qplot"
   ]
  },
  {
   "cell_type": "code",
   "execution_count": 6,
   "metadata": {
    "collapsed": false
   },
   "outputs": [
    {
     "data": {
      "image/png": "[encoded data removed]",
      "text/plain": [
       "plot without title"
      ]
     },
     "metadata": {},
     "output_type": "display_data"
    }
   ],
   "source": [
    "## Boxplot\n",
    "\n",
    "# Investigate the price of diamonds using box plots,\n",
    "# numerical summaries, and one of the following categorical\n",
    "# variables: cut, clarity, or color.\n",
    "\n",
    "# For boxplots, we use the \"y\" parameter for the continuous data \n",
    "# and the \"x\" parameter for the categorical data.\n",
    "library(gridExtra)\n",
    "q1 = qplot(x=cut, y=price, data=diamonds, geom='boxplot') +\n",
    "    coord_cartesian(ylim = c(0, 15000))\n",
    "q2 = qplot(x=cut, y=price/carat, data=diamonds, geom='boxplot') \n",
    "   \n",
    "grid.arrange(q1,q2)\n"
   ]
  },
  {
   "cell_type": "code",
   "execution_count": 72,
   "metadata": {
    "collapsed": false
   },
   "outputs": [
    {
     "data": {
      "text/plain": [
       "diamonds$color: D\n",
       "   Min. 1st Qu.  Median    Mean 3rd Qu.    Max. \n",
       "    357     911    1838    3170    4214   18693 \n",
       "------------------------------------------------------------ \n",
       "diamonds$color: E\n",
       "   Min. 1st Qu.  Median    Mean 3rd Qu.    Max. \n",
       "    326     882    1739    3077    4003   18731 \n",
       "------------------------------------------------------------ \n",
       "diamonds$color: F\n",
       "   Min. 1st Qu.  Median    Mean 3rd Qu.    Max. \n",
       "    342     982    2344    3725    4868   18791 \n",
       "------------------------------------------------------------ \n",
       "diamonds$color: G\n",
       "   Min. 1st Qu.  Median    Mean 3rd Qu.    Max. \n",
       "    354     931    2242    3999    6048   18818 \n",
       "------------------------------------------------------------ \n",
       "diamonds$color: H\n",
       "   Min. 1st Qu.  Median    Mean 3rd Qu.    Max. \n",
       "    337     984    3460    4487    5980   18803 \n",
       "------------------------------------------------------------ \n",
       "diamonds$color: I\n",
       "   Min. 1st Qu.  Median    Mean 3rd Qu.    Max. \n",
       "    334    1120    3730    5092    7202   18823 \n",
       "------------------------------------------------------------ \n",
       "diamonds$color: J\n",
       "   Min. 1st Qu.  Median    Mean 3rd Qu.    Max. \n",
       "    335    1860    4234    5324    7695   18710 "
      ]
     },
     "metadata": {},
     "output_type": "display_data"
    }
   ],
   "source": [
    "by(diamonds$price, diamonds$color, summary)"
   ]
  },
  {
   "cell_type": "code",
   "execution_count": 73,
   "metadata": {
    "collapsed": false
   },
   "outputs": [
    {
     "data": {},
     "metadata": {},
     "output_type": "display_data"
    },
    {
     "data": {
      "image/png": "[encoded data removed]",
      "text/plain": [
       "plot without title"
      ]
     },
     "metadata": {},
     "output_type": "display_data"
    }
   ],
   "source": [
    "# Investigate the price per carat of diamonds across\n",
    "# the different colors of diamonds using boxplots.\n",
    "\n",
    "qplot(x=color, y=price/carat, data=diamonds, geom='boxplot') \n",
    "\n",
    "#     coord_cartesian(ylim = c(0, 15000))\n"
   ]
  },
  {
   "cell_type": "code",
   "execution_count": 88,
   "metadata": {
    "collapsed": false
   },
   "outputs": [
    {
     "name": "stderr",
     "output_type": "stream",
     "text": [
      "`stat_bin()` using `bins = 30`. Pick better value with `binwidth`.\n"
     ]
    },
    {
     "data": {},
     "metadata": {},
     "output_type": "display_data"
    },
    {
     "data": {
      "image/png": "[encoded data removed]",
      "text/plain": [
       "plot without title"
      ]
     },
     "metadata": {},
     "output_type": "display_data"
    }
   ],
   "source": [
    "## Frequency polygon\n",
    "\n",
    "qplot(x=carat, data=diamonds, geom='freqpoly')\n",
    "\n",
    "#     scale_x_continuous(limits = c(1,2), breaks=seq(1,2,0.1))"
   ]
  },
  {
   "cell_type": "code",
   "execution_count": 94,
   "metadata": {
    "collapsed": false
   },
   "outputs": [
    {
     "name": "stderr",
     "output_type": "stream",
     "text": [
      "Warning message:\n",
      "\"Removed 32 rows containing non-finite values (stat_bin).\"Warning message:\n",
      "\"Removed 2 rows containing missing values (geom_path).\""
     ]
    },
    {
     "data": {},
     "metadata": {},
     "output_type": "display_data"
    },
    {
     "data": {
      "image/png": "[encoded data removed]",
      "text/plain": [
       "plot without title"
      ]
     },
     "metadata": {},
     "output_type": "display_data"
    }
   ],
   "source": [
    "## What carat sizes has count>2000?\n",
    "## We need to focus on the area of interest\n",
    "\n",
    "qplot(x=carat, data=diamonds, binwidth=0.1, geom='freqpoly')+\n",
    "    scale_x_continuous(limits = c(0,3), breaks=seq(0,3,0.1)) +\n",
    "    scale_y_continuous(limits = c(0,10000), breaks=seq(0,10000,500))\n"
   ]
  },
  {
   "cell_type": "code",
   "execution_count": 86,
   "metadata": {
    "collapsed": false
   },
   "outputs": [
    {
     "data": {
      "text/html": [
       "0.2"
      ],
      "text/latex": [
       "0.2"
      ],
      "text/markdown": [
       "0.2"
      ],
      "text/plain": [
       "[1] 0.2"
      ]
     },
     "metadata": {},
     "output_type": "display_data"
    }
   ],
   "source": [
    "# Data munging or data wrangling can take up much of a data scientist' time. \n",
    "# There are two R packages that make these tasks easier in R: tidyr and dplyr.\n",
    "\n",
    "# tidyr -a package that reshapes the layout of your data\n",
    "\n",
    "# dplyr - a package that helps you transform tidy, tabular data"
   ]
  },
  {
   "cell_type": "code",
   "execution_count": null,
   "metadata": {
    "collapsed": true
   },
   "outputs": [],
   "source": []
  },
  {
   "cell_type": "code",
   "execution_count": null,
   "metadata": {
    "collapsed": true
   },
   "outputs": [],
   "source": []
  },
  {
   "cell_type": "code",
   "execution_count": null,
   "metadata": {
    "collapsed": true
   },
   "outputs": [],
   "source": []
  }
 ],
 "metadata": {
  "anaconda-cloud": {},
  "kernelspec": {
   "display_name": "R [conda env:my-r-env]",
   "language": "R",
   "name": "conda-env-my-r-env-r"
  },
  "language_info": {
   "codemirror_mode": "r",
   "file_extension": ".r",
   "mimetype": "text/x-r-source",
   "name": "R",
   "pygments_lexer": "r",
   "version": "3.4.2"
  }
 },
 "nbformat": 4,
 "nbformat_minor": 2
}
